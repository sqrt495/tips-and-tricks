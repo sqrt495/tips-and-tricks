{
 "cells": [
  {
   "cell_type": "code",
   "execution_count": 3,
   "metadata": {},
   "outputs": [
    {
     "name": "stdout",
     "output_type": "stream",
     "text": [
      "Populating the interactive namespace from numpy and matplotlib\n"
     ]
    }
   ],
   "source": [
    "import re\n",
    "import math \n",
    "import numpy as np\n",
    "import matplotlib.pyplot as plt\n",
    "import pandas as pd\n",
    "from pandas import ExcelWriter\n",
    "from pandas import ExcelFile\n",
    "#To create ASCII tables\n",
    "from prettytable import PrettyTable\n",
    "from scipy.stats import pearsonr, chi2_contingency, kruskal,spearmanr,f_oneway\n",
    "import seaborn as sns\n",
    "from itertools import combinations\n",
    "from scipy import stats\n",
    "import statsmodels.api as sm\n",
    "from collections import Counter\n",
    "from sklearn.metrics import f1_score\n",
    "import warnings\n",
    "warnings.filterwarnings('ignore')\n",
    "%pylab inline\n",
    "\n",
    "\n",
    "from sklearn.metrics import make_scorer,f1_score,cohen_kappa_score\n",
    "from sklearn.linear_model import LinearRegression,LogisticRegression\n",
    "from sklearn.ensemble import RandomForestRegressor, RandomForestClassifier\n",
    "from sklearn.model_selection import cross_val_score,train_test_split,ShuffleSplit\n",
    "from sklearn.preprocessing import LabelEncoder\n",
    "\n",
    "def IQR(data):\n",
    "    #Returns the inter-quantile range \n",
    "    return data.quantile(.75) -  data.quantile(.25)\n",
    "\n",
    "def Is_Ok(data):\n",
    "    #Returns true if feature is distributed normally else false\n",
    "    rank = data.max() - data.min()\n",
    "#     low = sorted([data.mean(), data.mode()[0], data.median()])[0]\n",
    "#     high = sorted([data.mean(), data.mode()[0], data.median()])[2]\n",
    "    diff = abs(data.median() - data.mean())\n",
    "    if (abs(data.skew()) <= 1 and abs(data.kurtosis()) <= 1) and (diff < rank*0.05):\n",
    "        return True\n",
    "    else:\n",
    "        return False\n",
    "    \n",
    "def pearson_corr(some_data,grade='G3'):\n",
    "    #Returns Pearson correlation coefficient\n",
    "    global data\n",
    "    return pearsonr(some_data,data[grade])[0]\n",
    "\n",
    "def pearson_p_value(some_data,grade='G3'):\n",
    "    #Returns p-value for Pearson correlation coefficient\n",
    "    global data\n",
    "    return pearsonr(some_data,data[grade])[1]\n",
    "\n",
    "def anova_test(some_data):\n",
    "    #Returns ANOVA test value\n",
    "    global data\n",
    "    return f_oneway(*pd.crosstab(some_data.values,data['G3']).values)[0]\n",
    "\n",
    "def anova_p_value(some_data):\n",
    "    #Returns p-value for ANOVA test p-value\n",
    "    global data\n",
    "    return f_oneway(*pd.crosstab(some_data.values,data['G3']).values)[1]\n",
    "\n",
    "def kruskal_test(some_data):\n",
    "    #Returns Kruskal test value\n",
    "    global data\n",
    "    return kruskal(*pd.crosstab(some_data.values,data['G3']).values)[0]\n",
    "\n",
    "def kruskal_p_value(some_data):\n",
    "    #Returns Kruskal test p-value\n",
    "    global data\n",
    "    return kruskal(*pd.crosstab(some_data.values,data['G3']).values)[1]\n",
    "\n",
    "def chi_2_test(some_data):\n",
    "    #Returns chi-square test value\n",
    "    global data\n",
    "    return chi2_contingency(pd.crosstab(some_data.values,data['G3']),\\\n",
    "                            correction = False)[0]\n",
    "\n",
    "def chi_2_p_value(some_data):\n",
    "    #Returns chi-square test p-value\n",
    "    global data\n",
    "    return chi2_contingency(pd.crosstab(some_data.values,data['G3']),\\\n",
    "                            correction = False)[1]\n",
    "\n",
    "    \n",
    "def show_values_on_bars(axs):\n",
    "    #Utility for showing values on bars\n",
    "    def _show_on_single_plot(ax):        \n",
    "        for p in ax.patches:\n",
    "            _x = p.get_x() + p.get_width() / 2\n",
    "            _y = p.get_y() + p.get_height()\n",
    "            value = '{:.2f}'.format(p.get_height())\n",
    "            ax.text(_x, _y, value, ha=\"center\") \n",
    "\n",
    "    if isinstance(axs, np.ndarray):\n",
    "        for idx, ax in np.ndenumerate(axs):\n",
    "            _show_on_single_plot(ax)\n",
    "    else:\n",
    "        _show_on_single_plot(axs)\n",
    "    \n",
    "def rmse(predictions,targets):\n",
    "    #Returns RMSE for true values and prediction\n",
    "    return np.sqrt(((predictions - targets) ** 2).mean())\n",
    "    \n",
    "rmse_scorer = make_scorer(rmse)"
   ]
  },
  {
   "cell_type": "markdown",
   "metadata": {},
   "source": [
    "# Introduction"
   ]
  },
  {
   "cell_type": "markdown",
   "metadata": {},
   "source": [
    "Every company wants it’s processes to be as effective as possible. To address this issue, a lot of techniques were invented and one of them is a Six Sigma – a set of techniques and tools for process improvement. This method improves the quality of output of a process by identifying and removing the causes of defects and minimizing the variability in a technological, manufacturing or business process."
   ]
  },
  {
   "cell_type": "markdown",
   "metadata": {},
   "source": [
    "Six Sigma approach has proven to be succesfull in many cases, being applied for large and relatively small companies. There are stories of Six Sigma success written by such companies as Motorola, General Electric, Federal Express and so on. Used wisely, this approach could solve a lot of different optimization problems. Detailed example of one of such stories is the article written by Anne Cesarone for the portal goleansixsigma.com, where she explains how she reduced router configuration time by 55%"
   ]
  },
  {
   "cell_type": "markdown",
   "metadata": {},
   "source": [
    "But, as we all know, there is no such thing as free lunch and sometimes even good methodologies could fail our expectations. The 3M company applied Six Sigma's strict process and it's lack of freedom caused significant roadblocks and killed innovation in 3M. As it was an technological innovative company such an outcome led to drop of new products revenue from 33% of total revenue down to roughly 20%. Former 3M vice president Geoff Nicholson said that the Six Sigma should not be applied to creative stages, since it was designed for manufacturing when starting to scale up a product."
   ]
  },
  {
   "cell_type": "markdown",
   "metadata": {},
   "source": [
    "The purpose of this work is to demonstrate an example of how the data analysis could be performed to get useful insights from the data provided and use them to improve some of the underlying processes using the Six Sigma metrics and general approach of reducing the process variability."
   ]
  },
  {
   "cell_type": "markdown",
   "metadata": {},
   "source": [
    "# Methodology"
   ]
  },
  {
   "cell_type": "markdown",
   "metadata": {},
   "source": [
    "The data for this work came from Kaggle and contains info about student achievement in mathematics in secondary education of two Portuguese schools. Dataset contains both numerical and categorical features. In this dataset final grade (‘G3’) and weekday alcohol consumption (‘Walc’) were chosen as the subjects to modeling and further optimization. Next subsection will describe the statistical methods used to analyze the data:\n"
   ]
  },
  {
   "cell_type": "markdown",
   "metadata": {},
   "source": [
    "In the analysis of numerical attributes, we used more basic dimensions such as: maximum or minimum value, range from minimum to maximum value, average, median and most common value - mode. In addition to the simple and very commonly used ones, we also used some measures, such as kurtosis, skewness, standard deviation, and interquartile spacing (IQR). With the help of these, in combination with the above, we can more precisely determine whether or not the value of a variable is a normal distribution. [[1](#Literature)]"
   ]
  },
  {
   "cell_type": "markdown",
   "metadata": {},
   "source": [
    "This work involves use of statistical tests, both for categorical and numerical features and their combinations. Statistical tests are used to test some hypotheses. Usual approach is to form so-called null hypothesis  and an alternative (one- or two-sided). After that we compute the desired statistics and it's p-value. P-value or probability value is the probability of obtaining test results at least as extreme as the results actually observed during the test, assuming that the null hypothesis is correct.[[2](#Literature)]"
   ]
  },
  {
   "cell_type": "markdown",
   "metadata": {},
   "source": [
    "## Metrics"
   ]
  },
  {
   "cell_type": "markdown",
   "metadata": {},
   "source": [
    "### Standard deviation"
   ]
  },
  {
   "cell_type": "markdown",
   "metadata": {},
   "source": [
    "The standard deviation is a measure of dispersion calculated as the square root of the variance. The variance describes the distance of the value of the variable to the arithmetic mean.[[1](#Literature)]"
   ]
  },
  {
   "cell_type": "markdown",
   "metadata": {},
   "source": [
    "![title](img/02.png)"
   ]
  },
  {
   "cell_type": "markdown",
   "metadata": {},
   "source": [
    "### Interquartile spacing"
   ]
  },
  {
   "cell_type": "markdown",
   "metadata": {},
   "source": [
    "Interquartile spacing describes the range of values of a variable if we cut off the lower and upper 25% of the value. It is therefore the distance between the first and third quartiles. [[1](#Literature)]"
   ]
  },
  {
   "cell_type": "markdown",
   "metadata": {},
   "source": [
    "![title](img/Screenshot_03.png)"
   ]
  },
  {
   "cell_type": "markdown",
   "metadata": {},
   "source": [
    "## Statistical tests"
   ]
  },
  {
   "cell_type": "markdown",
   "metadata": {},
   "source": [
    "### How to interpret p_value "
   ]
  },
  {
   "cell_type": "markdown",
   "metadata": {},
   "source": [
    "For all the tests below we calculate p-value for the obtained statistics and reject null hypothesis in case of p-value is less than 0.05.[[2](#Literature)]"
   ]
  },
  {
   "cell_type": "markdown",
   "metadata": {},
   "source": [
    "### Pearson’s correlation test "
   ]
  },
  {
   "cell_type": "markdown",
   "metadata": {},
   "source": [
    "Pearson product-moment correlation coefficient (PPMCC) or the bivariate correlation, is a measure of the linear correlation between two variables X and Y. According to the Cauchy–Schwarz inequality it has a value between +1 and −1, where 1 is total positive linear correlation, 0 is no linear correlation, and −1 is total negative linear correlation. The important thing about this test is that it assumes the normal distribution of two features.[[3](#Literature)]"
   ]
  },
  {
   "cell_type": "markdown",
   "metadata": {},
   "source": [
    "### Spearman’s correlation test"
   ]
  },
  {
   "cell_type": "markdown",
   "metadata": {},
   "source": [
    "The Spearman's rank-order correlation is the nonparametric version of the Pearson product-moment correlation. Spearman's correlation coefficient measures the strength and direction of association between two ranked variables.[[3](#Literature)]"
   ]
  },
  {
   "cell_type": "markdown",
   "metadata": {},
   "source": [
    "### Chi-square test"
   ]
  },
  {
   "cell_type": "markdown",
   "metadata": {},
   "source": [
    "The phrase \"a chi-square test\" could be used as the description of any statistical hypothesis test where the sampling distribution of the test statistic is, under some circumstances, approximately, or is simply hoped to be approximately, a chi-squared distribution, when the null hypothesis is true. Usually however, the phrase is used as short for Pearson's chi-squared test, and variants thereof. Pearson's chi-squared test is used to determine whether there is a statistically significant difference (i.e., a difference which clearly is not just due to chance fluctuations) between the expected frequencies and the observed frequencies in one or more categories of a so-called contingency table.[[3](#Literature)]"
   ]
  },
  {
   "cell_type": "markdown",
   "metadata": {},
   "source": [
    "### ANOVA test"
   ]
  },
  {
   "cell_type": "markdown",
   "metadata": {},
   "source": [
    "Analysis of variance (ANOVA) is a collection of statistical models and their associated estimation procedures (such as the \"variation\" among and between groups) used to analyze the differences among group means in a sample. ANOVA was developed by statistician and evolutionary biologist Ronald Fisher. The ANOVA is based on the law of total variance, where the observed variance in a particular variable is partitioned into components attributable to different sources of variation. In its simplest form, ANOVA provides a statistical test of whether two or more population means are equal, and therefore generalizes the t-test beyond two means.[[3](#Literature)]"
   ]
  },
  {
   "cell_type": "markdown",
   "metadata": {},
   "source": [
    "### Kruskal–Wallis one-way analysis of variance\n"
   ]
  },
  {
   "cell_type": "markdown",
   "metadata": {},
   "source": [
    "The Kruskal–Wallis test by ranks, Kruskal–Wallis H test (named after William Kruskal and W. Allen Wallis), or one-way ANOVA on ranks is a non-parametric method for testing whether samples originate from the same distribution. It is used for comparing two or more independent samples of equal or different sample sizes. It extends the Mann–Whitney U test, which is used for comparing only two groups. The parametric equivalent of the Kruskal–Wallis test is the one-way analysis of variance (ANOVA).[[3](#Literature)]"
   ]
  },
  {
   "cell_type": "markdown",
   "metadata": {},
   "source": [
    "## Modeling\n"
   ]
  },
  {
   "cell_type": "markdown",
   "metadata": {},
   "source": [
    "In this work two kinds of predictive models were used to get the understanding of underlying process and to make assumptions on effects of different optimization schemes on it.\n"
   ]
  },
  {
   "cell_type": "markdown",
   "metadata": {},
   "source": [
    "### Linear Regression\n"
   ]
  },
  {
   "cell_type": "markdown",
   "metadata": {},
   "source": [
    "Linear regression is a procedure in which we search for a linear combination of variables xi for the output variable y. The general formula can be written as:\n",
    "y=β0+β1x1+⋯+βkxk.\n",
    "The coefficients βi for the input attributes are chosen in such a way as to minimize the prediction error.[[4](#Literature)]"
   ]
  },
  {
   "cell_type": "markdown",
   "metadata": {},
   "source": [
    "### LogisticRegression"
   ]
  },
  {
   "cell_type": "markdown",
   "metadata": {},
   "source": [
    "Logistic regression is a statistical method for analyzing a multitude of data with one or more independent variables that determine categorical output. The logistic regression predictive model operates on the principle of a sigmoid function, which determines the optimal threshold in a way that maximizes the number of correct predictions with respect to input attributes. The threshold can be easily determined using the confusion matrix, contingency tables.[[5](#Literature)]"
   ]
  },
  {
   "cell_type": "markdown",
   "metadata": {},
   "source": [
    "We know binary logistic regression, logistic regression with two possible outputs, logistic regression for three or more nominal categorical outputs, and logistic regression for three or more ordinal categorical outputs.[[5](#Literature)]"
   ]
  },
  {
   "cell_type": "markdown",
   "metadata": {},
   "source": [
    "### Random Forest\n"
   ]
  },
  {
   "cell_type": "markdown",
   "metadata": {},
   "source": [
    "Random forests or random decision forests are an ensemble learning method for classification, regression and other tasks that operates by constructing a multitude of decision trees at training time and outputting the class that is the mode of the classes (classification) or mean prediction (regression) of the individual trees. Random decision forests correct for decision trees' habit of overfitting to their training set. Unlike the linear regression, random forest can detect non-linear interactions between predictors.[[6](#Literature)]"
   ]
  },
  {
   "cell_type": "markdown",
   "metadata": {},
   "source": [
    "## Evaluating models performance"
   ]
  },
  {
   "cell_type": "markdown",
   "metadata": {},
   "source": [
    "To analyze the models performance and to be able to compare them we use evaluation metrics, which show us how good or how bad we are in predicting the target variable. Depending on the task given we could use different metrics."
   ]
  },
  {
   "cell_type": "markdown",
   "metadata": {},
   "source": [
    "### RMSE, used for regression tasks"
   ]
  },
  {
   "cell_type": "markdown",
   "metadata": {},
   "source": [
    "<img src=\"img/rmse.png\" alt=\"Drawing\" style=\"width: 200px;\"/>"
   ]
  },
  {
   "cell_type": "markdown",
   "metadata": {},
   "source": [
    "### F1 score"
   ]
  },
  {
   "cell_type": "markdown",
   "metadata": {},
   "source": [
    "In statistical analysis of binary classification, the F1 score (also F-score or F-measure) is a measure of a test's accuracy. It considers both the precision p and the recall r of the test to compute the score: p is the number of correct positive results divided by the number of all positive results returned by the classifier, and r is the number of correct positive results divided by the number of all relevant samples (all samples that should have been identified as positive). The F1 score is the harmonic mean of the precision and recall, where an F1 score reaches its best value at 1 (perfect precision and recall) and worst at 0.[[7](#Literature)]"
   ]
  },
  {
   "cell_type": "markdown",
   "metadata": {},
   "source": [
    "Here, 'TP' stands for 'True positive', 'FN' stands for 'False negative' and FP stands for 'False positive', "
   ]
  },
  {
   "cell_type": "markdown",
   "metadata": {},
   "source": [
    "![title](img/f1.png)"
   ]
  },
  {
   "cell_type": "markdown",
   "metadata": {},
   "source": [
    "## Optimization results analysis\n"
   ]
  },
  {
   "cell_type": "markdown",
   "metadata": {},
   "source": [
    "### Cohen's kappa coefficient\n"
   ]
  },
  {
   "cell_type": "markdown",
   "metadata": {},
   "source": [
    "The kappa statistic is often used to evaluate the match between two estimators evaluating the same binary measurement. The coefficient measures the percentage of units in which estimates match according to the expected coincidence resulting from chance. The contingency table is used to calculate the coefficient. Depending on the value of the coefficient, the match may be weak (K<0,2), partial (0,2≤K<0,4), medium strong (0,4≤K<0,8), strong (0,6≤K<0,8) or very strong (0,8≤K<1)[[8](#Literature)]\n"
   ]
  },
  {
   "cell_type": "markdown",
   "metadata": {},
   "source": [
    "### Bland-Altman plot\n"
   ]
  },
  {
   "cell_type": "markdown",
   "metadata": {},
   "source": [
    "Bland-Altman plots are extensively used to evaluate the agreement among two different instruments or two measurements techniques. Bland-Altman plots allow identification of any systematic difference between the measurements (i.e., fixed bias) or possible outliers. The mean difference is the estimated bias, and the SD of the differences measures the random fluctuations around this mean. If the mean value of the difference differs significantly from 0 on the basis of a 1-sample t-test, this indicates the presence of fixed bias. If there is a consistent bias, it can be adjusted for by subtracting the mean difference from the new method. It is common to compute 95% limits of agreement for each comparison (average difference ± 1.96 standard deviation of the difference), which tells us how far apart measurements by 2 methods were more likely to be for most individuals. If the differences within mean ± 1.96 SD are not clinically important, the two methods may be used interchangeably. The 95% limits of agreement can be unreliable estimates of the population parameters especially for small sample sizes so, when comparing methods or assessing repeatability, it is important to calculate confidence intervals for 95% limits of agreement. This can be done by Bland and Altman's approximate method or by more precise methods.[[9](#Literature)]"
   ]
  },
  {
   "cell_type": "markdown",
   "metadata": {},
   "source": [
    "The t-test is any statistical hypothesis test in which the test statistic follows a Student's t-distribution under the null hypothesis.\n",
    "\n",
    "A t-test is most commonly applied when the test statistic would follow a normal distribution if the value of a scaling term in the test statistic were known. When the scaling term is unknown and is replaced by an estimate based on the data, the test statistics (under certain conditions) follow a Student's t distribution. The t-test can be used, for example, to determine if the means of two sets of data are significantly different from each other. [3]"
   ]
  },
  {
   "cell_type": "code",
   "execution_count": 4,
   "metadata": {},
   "outputs": [],
   "source": [
    "data = pd.read_csv('data/student-mat.csv')\n",
    "numerics = ['int16','int32','int64','float16','float32','float64']\n",
    "dfNum = data.select_dtypes(include=numerics)\n",
    "dfDis = data.select_dtypes(exclude=numerics)"
   ]
  },
  {
   "cell_type": "code",
   "execution_count": 5,
   "metadata": {},
   "outputs": [
    {
     "name": "stdout",
     "output_type": "stream",
     "text": [
      "NaN values:\n"
     ]
    },
    {
     "data": {
      "text/plain": [
       "school        0\n",
       "sex           0\n",
       "age           0\n",
       "address       0\n",
       "famsize       0\n",
       "Pstatus       0\n",
       "Medu          0\n",
       "Fedu          0\n",
       "Mjob          0\n",
       "Fjob          0\n",
       "reason        0\n",
       "guardian      0\n",
       "traveltime    0\n",
       "studytime     0\n",
       "failures      0\n",
       "schoolsup     0\n",
       "famsup        0\n",
       "paid          0\n",
       "activities    0\n",
       "nursery       0\n",
       "higher        0\n",
       "internet      0\n",
       "romantic      0\n",
       "famrel        0\n",
       "freetime      0\n",
       "goout         0\n",
       "Dalc          0\n",
       "Walc          0\n",
       "health        0\n",
       "absences      0\n",
       "G1            0\n",
       "G2            0\n",
       "G3            0\n",
       "dtype: int64"
      ]
     },
     "execution_count": 5,
     "metadata": {},
     "output_type": "execute_result"
    }
   ],
   "source": [
    "print('NaN values:')\n",
    "data.isna().sum()"
   ]
  },
  {
   "cell_type": "markdown",
   "metadata": {},
   "source": [
    "# Exploratory data analysis"
   ]
  },
  {
   "cell_type": "markdown",
   "metadata": {},
   "source": [
    "Let's begin the analysis of the data given. In this dataset there are no missing values so nothing special to fix before performing an analysis"
   ]
  },
  {
   "cell_type": "markdown",
   "metadata": {},
   "source": [
    "This dataset has 33 columns in it and 395 entries. Below is the list of all attributes:"
   ]
  },
  {
   "cell_type": "code",
   "execution_count": 6,
   "metadata": {},
   "outputs": [
    {
     "name": "stdout",
     "output_type": "stream",
     "text": [
      "List of attributes: school, sex, age, address, famsize, Pstatus, Medu, Fedu, Mjob, Fjob, reason, guardian, traveltime, studytime, failures, schoolsup, famsup, paid, activities, nursery, higher, internet, romantic, famrel, freetime, goout, Dalc, Walc, health, absences, G1, G2, G3\n"
     ]
    }
   ],
   "source": [
    "print('List of attributes: ' + ', '.join(x for x in data.columns))"
   ]
  },
  {
   "cell_type": "markdown",
   "metadata": {},
   "source": [
    "## Numerical features analysis"
   ]
  },
  {
   "cell_type": "markdown",
   "metadata": {},
   "source": [
    "As we see from histograms with numerical features distribution - there a not so many features which are distributed normally. Sometimes you could read that it should stop us from using linear regression, but it is a common misconception, since it assumes the normality of residuals distribution and not of the actual data. Also, we could see that most of numerical features are ordinal and take values in range from 1 to 5 and only few are continious such as G1-G3 and age."
   ]
  },
  {
   "cell_type": "code",
   "execution_count": 7,
   "metadata": {},
   "outputs": [
    {
     "data": {
      "text/plain": [
       "Text(0.5, 0.98, 'Numerical features distribution')"
      ]
     },
     "execution_count": 7,
     "metadata": {},
     "output_type": "execute_result"
    },
    {
     "data": {
      "image/png": "[encoded data removed]",
      "text/plain": [
       "<Figure size 1440x1440 with 16 Axes>"
      ]
     },
     "metadata": {
      "needs_background": "light"
     },
     "output_type": "display_data"
    }
   ],
   "source": [
    "fig = dfNum.hist(figsize=(20,20));\n",
    "[x.title.set_size(15) for x in fig.ravel()];\n",
    "plt.suptitle('Numerical features distribution',fontsize=20)"
   ]
  },
  {
   "cell_type": "markdown",
   "metadata": {},
   "source": [
    "Here we are getting some information about our numerical features and use the “Over the thumb” rule to determine whether the feature is distributed normally or not."
   ]
  },
  {
   "cell_type": "code",
   "execution_count": 8,
   "metadata": {},
   "outputs": [
    {
     "data": {
      "text/html": [
       "<div>\n",
       "<style scoped>\n",
       "    .dataframe tbody tr th:only-of-type {\n",
       "        vertical-align: middle;\n",
       "    }\n",
       "\n",
       "    .dataframe tbody tr th {\n",
       "        vertical-align: top;\n",
       "    }\n",
       "\n",
       "    .dataframe thead th {\n",
       "        text-align: right;\n",
       "    }\n",
       "</style>\n",
       "<table border=\"1\" class=\"dataframe\">\n",
       "  <thead>\n",
       "    <tr style=\"text-align: right;\">\n",
       "      <th></th>\n",
       "      <th>mean</th>\n",
       "      <th>median</th>\n",
       "      <th>std</th>\n",
       "      <th>IQR</th>\n",
       "      <th>min</th>\n",
       "      <th>max</th>\n",
       "      <th>skew</th>\n",
       "      <th>kurtosis</th>\n",
       "      <th>Is_Normal</th>\n",
       "      <th>rank</th>\n",
       "      <th>mode</th>\n",
       "    </tr>\n",
       "  </thead>\n",
       "  <tbody>\n",
       "    <tr>\n",
       "      <th>age</th>\n",
       "      <td>16.6962</td>\n",
       "      <td>17</td>\n",
       "      <td>1.27604</td>\n",
       "      <td>2</td>\n",
       "      <td>15</td>\n",
       "      <td>22</td>\n",
       "      <td>0.46627</td>\n",
       "      <td>-0.00122178</td>\n",
       "      <td>True</td>\n",
       "      <td>7</td>\n",
       "      <td>16</td>\n",
       "    </tr>\n",
       "    <tr>\n",
       "      <th>Medu</th>\n",
       "      <td>2.74937</td>\n",
       "      <td>3</td>\n",
       "      <td>1.09474</td>\n",
       "      <td>2</td>\n",
       "      <td>0</td>\n",
       "      <td>4</td>\n",
       "      <td>-0.318381</td>\n",
       "      <td>-1.09001</td>\n",
       "      <td>False</td>\n",
       "      <td>4</td>\n",
       "      <td>4</td>\n",
       "    </tr>\n",
       "    <tr>\n",
       "      <th>Fedu</th>\n",
       "      <td>2.52152</td>\n",
       "      <td>2</td>\n",
       "      <td>1.0882</td>\n",
       "      <td>1</td>\n",
       "      <td>0</td>\n",
       "      <td>4</td>\n",
       "      <td>-0.0316721</td>\n",
       "      <td>-1.19854</td>\n",
       "      <td>False</td>\n",
       "      <td>4</td>\n",
       "      <td>2</td>\n",
       "    </tr>\n",
       "    <tr>\n",
       "      <th>traveltime</th>\n",
       "      <td>1.4481</td>\n",
       "      <td>1</td>\n",
       "      <td>0.697505</td>\n",
       "      <td>1</td>\n",
       "      <td>1</td>\n",
       "      <td>4</td>\n",
       "      <td>1.60703</td>\n",
       "      <td>2.34419</td>\n",
       "      <td>False</td>\n",
       "      <td>3</td>\n",
       "      <td>1</td>\n",
       "    </tr>\n",
       "    <tr>\n",
       "      <th>studytime</th>\n",
       "      <td>2.03544</td>\n",
       "      <td>2</td>\n",
       "      <td>0.83924</td>\n",
       "      <td>1</td>\n",
       "      <td>1</td>\n",
       "      <td>4</td>\n",
       "      <td>0.632142</td>\n",
       "      <td>-0.0144318</td>\n",
       "      <td>True</td>\n",
       "      <td>3</td>\n",
       "      <td>2</td>\n",
       "    </tr>\n",
       "    <tr>\n",
       "      <th>failures</th>\n",
       "      <td>0.334177</td>\n",
       "      <td>0</td>\n",
       "      <td>0.743651</td>\n",
       "      <td>0</td>\n",
       "      <td>0</td>\n",
       "      <td>3</td>\n",
       "      <td>2.38703</td>\n",
       "      <td>5.00473</td>\n",
       "      <td>False</td>\n",
       "      <td>3</td>\n",
       "      <td>0</td>\n",
       "    </tr>\n",
       "    <tr>\n",
       "      <th>famrel</th>\n",
       "      <td>3.9443</td>\n",
       "      <td>4</td>\n",
       "      <td>0.896659</td>\n",
       "      <td>1</td>\n",
       "      <td>1</td>\n",
       "      <td>5</td>\n",
       "      <td>-0.951882</td>\n",
       "      <td>1.13977</td>\n",
       "      <td>False</td>\n",
       "      <td>4</td>\n",
       "      <td>4</td>\n",
       "    </tr>\n",
       "    <tr>\n",
       "      <th>freetime</th>\n",
       "      <td>3.23544</td>\n",
       "      <td>3</td>\n",
       "      <td>0.998862</td>\n",
       "      <td>1</td>\n",
       "      <td>1</td>\n",
       "      <td>5</td>\n",
       "      <td>-0.163351</td>\n",
       "      <td>-0.301807</td>\n",
       "      <td>False</td>\n",
       "      <td>4</td>\n",
       "      <td>3</td>\n",
       "    </tr>\n",
       "    <tr>\n",
       "      <th>goout</th>\n",
       "      <td>3.10886</td>\n",
       "      <td>3</td>\n",
       "      <td>1.11328</td>\n",
       "      <td>2</td>\n",
       "      <td>1</td>\n",
       "      <td>5</td>\n",
       "      <td>0.116502</td>\n",
       "      <td>-0.77025</td>\n",
       "      <td>True</td>\n",
       "      <td>4</td>\n",
       "      <td>3</td>\n",
       "    </tr>\n",
       "    <tr>\n",
       "      <th>Dalc</th>\n",
       "      <td>1.48101</td>\n",
       "      <td>1</td>\n",
       "      <td>0.890741</td>\n",
       "      <td>1</td>\n",
       "      <td>1</td>\n",
       "      <td>5</td>\n",
       "      <td>2.19076</td>\n",
       "      <td>4.75949</td>\n",
       "      <td>False</td>\n",
       "      <td>4</td>\n",
       "      <td>1</td>\n",
       "    </tr>\n",
       "    <tr>\n",
       "      <th>Walc</th>\n",
       "      <td>2.29114</td>\n",
       "      <td>2</td>\n",
       "      <td>1.2879</td>\n",
       "      <td>2</td>\n",
       "      <td>1</td>\n",
       "      <td>5</td>\n",
       "      <td>0.61196</td>\n",
       "      <td>-0.790845</td>\n",
       "      <td>False</td>\n",
       "      <td>4</td>\n",
       "      <td>1</td>\n",
       "    </tr>\n",
       "    <tr>\n",
       "      <th>health</th>\n",
       "      <td>3.55443</td>\n",
       "      <td>4</td>\n",
       "      <td>1.3903</td>\n",
       "      <td>2</td>\n",
       "      <td>1</td>\n",
       "      <td>5</td>\n",
       "      <td>-0.494604</td>\n",
       "      <td>-1.01408</td>\n",
       "      <td>False</td>\n",
       "      <td>4</td>\n",
       "      <td>5</td>\n",
       "    </tr>\n",
       "    <tr>\n",
       "      <th>absences</th>\n",
       "      <td>5.70886</td>\n",
       "      <td>4</td>\n",
       "      <td>8.0031</td>\n",
       "      <td>8</td>\n",
       "      <td>0</td>\n",
       "      <td>75</td>\n",
       "      <td>3.67158</td>\n",
       "      <td>21.7191</td>\n",
       "      <td>False</td>\n",
       "      <td>75</td>\n",
       "      <td>0</td>\n",
       "    </tr>\n",
       "    <tr>\n",
       "      <th>G1</th>\n",
       "      <td>10.9089</td>\n",
       "      <td>11</td>\n",
       "      <td>3.31919</td>\n",
       "      <td>5</td>\n",
       "      <td>3</td>\n",
       "      <td>19</td>\n",
       "      <td>0.240613</td>\n",
       "      <td>-0.69383</td>\n",
       "      <td>True</td>\n",
       "      <td>16</td>\n",
       "      <td>10</td>\n",
       "    </tr>\n",
       "    <tr>\n",
       "      <th>G2</th>\n",
       "      <td>10.7139</td>\n",
       "      <td>11</td>\n",
       "      <td>3.7615</td>\n",
       "      <td>4</td>\n",
       "      <td>0</td>\n",
       "      <td>19</td>\n",
       "      <td>-0.431645</td>\n",
       "      <td>0.627706</td>\n",
       "      <td>True</td>\n",
       "      <td>19</td>\n",
       "      <td>9</td>\n",
       "    </tr>\n",
       "    <tr>\n",
       "      <th>G3</th>\n",
       "      <td>10.4152</td>\n",
       "      <td>11</td>\n",
       "      <td>4.58144</td>\n",
       "      <td>6</td>\n",
       "      <td>0</td>\n",
       "      <td>20</td>\n",
       "      <td>-0.732672</td>\n",
       "      <td>0.403421</td>\n",
       "      <td>True</td>\n",
       "      <td>20</td>\n",
       "      <td>10</td>\n",
       "    </tr>\n",
       "  </tbody>\n",
       "</table>\n",
       "</div>"
      ],
      "text/plain": [
       "                mean median       std IQR min max       skew    kurtosis  \\\n",
       "age          16.6962     17   1.27604   2  15  22    0.46627 -0.00122178   \n",
       "Medu         2.74937      3   1.09474   2   0   4  -0.318381    -1.09001   \n",
       "Fedu         2.52152      2    1.0882   1   0   4 -0.0316721    -1.19854   \n",
       "traveltime    1.4481      1  0.697505   1   1   4    1.60703     2.34419   \n",
       "studytime    2.03544      2   0.83924   1   1   4   0.632142  -0.0144318   \n",
       "failures    0.334177      0  0.743651   0   0   3    2.38703     5.00473   \n",
       "famrel        3.9443      4  0.896659   1   1   5  -0.951882     1.13977   \n",
       "freetime     3.23544      3  0.998862   1   1   5  -0.163351   -0.301807   \n",
       "goout        3.10886      3   1.11328   2   1   5   0.116502    -0.77025   \n",
       "Dalc         1.48101      1  0.890741   1   1   5    2.19076     4.75949   \n",
       "Walc         2.29114      2    1.2879   2   1   5    0.61196   -0.790845   \n",
       "health       3.55443      4    1.3903   2   1   5  -0.494604    -1.01408   \n",
       "absences     5.70886      4    8.0031   8   0  75    3.67158     21.7191   \n",
       "G1           10.9089     11   3.31919   5   3  19   0.240613    -0.69383   \n",
       "G2           10.7139     11    3.7615   4   0  19  -0.431645    0.627706   \n",
       "G3           10.4152     11   4.58144   6   0  20  -0.732672    0.403421   \n",
       "\n",
       "           Is_Normal  rank  mode  \n",
       "age             True     7    16  \n",
       "Medu           False     4     4  \n",
       "Fedu           False     4     2  \n",
       "traveltime     False     3     1  \n",
       "studytime       True     3     2  \n",
       "failures       False     3     0  \n",
       "famrel         False     4     4  \n",
       "freetime       False     4     3  \n",
       "goout           True     4     3  \n",
       "Dalc           False     4     1  \n",
       "Walc           False     4     1  \n",
       "health         False     4     5  \n",
       "absences       False    75     0  \n",
       "G1              True    16    10  \n",
       "G2              True    19     9  \n",
       "G3              True    20    10  "
      ]
     },
     "execution_count": 8,
     "metadata": {},
     "output_type": "execute_result"
    }
   ],
   "source": [
    "num_stats = dfNum.transpose().agg(['mean','median','std',IQR,'min','max','skew','kurtosis',Is_Ok],axis=1)\n",
    "num_stats['rank'] = num_stats.apply(lambda x: x['max'] - x['min'],axis=1)\n",
    "num_stats['mode'] = dfNum.transpose().mode(axis=1)\n",
    "num_stats.columns = [x if x != 'Is_Ok' else 'Is_Normal' for x in num_stats.columns ]\n",
    "num_stats"
   ]
  },
  {
   "cell_type": "markdown",
   "metadata": {},
   "source": [
    "We could divide all numerical features to four different categories and for each of them different statistical test will be applied in order to find correlation with target variable. For normally distributed conitinious features we will use Pearson correlation, for skewed conitinious features we will use Spearman correlation, for normally distributed ordinal features we will use ANOVA and for skewed ordinal features we will use Kruskal-Wallis test."
   ]
  },
  {
   "cell_type": "code",
   "execution_count": 9,
   "metadata": {
    "scrolled": true
   },
   "outputs": [
    {
     "name": "stdout",
     "output_type": "stream",
     "text": [
      "Number of normal ordinal features: 2. List of these features: studytime, goout\n",
      "Number of normal continious features: 4. List of these features: age, G1, G2, G3\n",
      "Number of skewed ordinal features: 9. List of these features: Medu, Fedu, traveltime, failures, famrel, freetime, Dalc, Walc, health\n",
      "Number of skewed continious features: 1. List of these features: absences\n"
     ]
    }
   ],
   "source": [
    "#Select numerical features with small discrete range of values\n",
    "ordinal = data.columns[np.where(data.nunique() < 6)]\n",
    "#Select all other numerical features\n",
    "continious = data.columns[np.where(data.nunique() >= 6)]\n",
    "#For each of numerical features we ca,culated if they distributed normally or not. Now, we will divide them in\n",
    "#four subgroups - normal-ordinal, normal-continious, skewed-ordinal, skewed-continious\n",
    "norm_ord = num_stats[(num_stats.index.isin(ordinal)) & (num_stats.Is_Normal == True)].index\n",
    "norm_cont = num_stats[(num_stats.index.isin(continious)) & (num_stats.Is_Normal == True)].index\n",
    "skew_ord = num_stats[(num_stats.index.isin(ordinal)) & (num_stats.Is_Normal == False)].index\n",
    "skew_cont = num_stats[(num_stats.index.isin(continious)) & (num_stats.Is_Normal == False)].index\n",
    "print('Number of normal ordinal features: %d' % (len(norm_ord)) +\\\n",
    "      '. List of these features: ' + ', '.join(norm_ord))\n",
    "print('Number of normal continious features: %d' % (len(norm_cont)) +\\\n",
    "      '. List of these features: ' + ', '.join(norm_cont))\n",
    "print('Number of skewed ordinal features: %d' % (len(skew_ord)) +\\\n",
    "      '. List of these features: ' + ', '.join(skew_ord))\n",
    "print('Number of skewed continious features: %d' % (len(skew_cont)) +\\\n",
    "      '. List of these features: ' + ', '.join(skew_cont))\n"
   ]
  },
  {
   "cell_type": "markdown",
   "metadata": {},
   "source": [
    "### Pearson correlation coefficient for normally distributed features"
   ]
  },
  {
   "cell_type": "markdown",
   "metadata": {},
   "source": [
    "Here we can see, that all the grades are correlated positively with target feature and 'age' feature is correlated negativelty. This means, that if we increase, for example, 'G1', 'G3' will also increase and if we increase 'age', 'G3' will decrease."
   ]
  },
  {
   "cell_type": "code",
   "execution_count": 10,
   "metadata": {},
   "outputs": [
    {
     "name": "stdout",
     "output_type": "stream",
     "text": [
      "Significant features:\n"
     ]
    },
    {
     "data": {
      "text/html": [
       "<div>\n",
       "<style scoped>\n",
       "    .dataframe tbody tr th:only-of-type {\n",
       "        vertical-align: middle;\n",
       "    }\n",
       "\n",
       "    .dataframe tbody tr th {\n",
       "        vertical-align: top;\n",
       "    }\n",
       "\n",
       "    .dataframe thead th {\n",
       "        text-align: right;\n",
       "    }\n",
       "</style>\n",
       "<table border=\"1\" class=\"dataframe\">\n",
       "  <thead>\n",
       "    <tr style=\"text-align: right;\">\n",
       "      <th></th>\n",
       "      <th>pearson_corr</th>\n",
       "      <th>pearson_p_value</th>\n",
       "      <th>significant</th>\n",
       "    </tr>\n",
       "  </thead>\n",
       "  <tbody>\n",
       "    <tr>\n",
       "      <th>G2</th>\n",
       "      <td>0.904868</td>\n",
       "      <td>7.625719e-148</td>\n",
       "      <td>Yes</td>\n",
       "    </tr>\n",
       "    <tr>\n",
       "      <th>G1</th>\n",
       "      <td>0.801468</td>\n",
       "      <td>9.001430e-90</td>\n",
       "      <td>Yes</td>\n",
       "    </tr>\n",
       "    <tr>\n",
       "      <th>age</th>\n",
       "      <td>-0.161579</td>\n",
       "      <td>1.271439e-03</td>\n",
       "      <td>Yes</td>\n",
       "    </tr>\n",
       "  </tbody>\n",
       "</table>\n",
       "</div>"
      ],
      "text/plain": [
       "     pearson_corr  pearson_p_value significant\n",
       "G2       0.904868    7.625719e-148         Yes\n",
       "G1       0.801468     9.001430e-90         Yes\n",
       "age     -0.161579     1.271439e-03         Yes"
      ]
     },
     "execution_count": 10,
     "metadata": {},
     "output_type": "execute_result"
    }
   ],
   "source": [
    "norm_cont_info = data[norm_cont].drop('G3',1).agg([pearson_corr,pearson_p_value]).transpose()\n",
    "norm_cont_info['significant'] = norm_cont_info.apply(lambda x: 'Yes' if x['pearson_p_value'] < 0.05 else 'No',axis=1)\n",
    "print('Significant features:')\n",
    "norm_cont_info[norm_cont_info.significant == 'Yes'].sort_values('pearson_corr',ascending=False)"
   ]
  },
  {
   "cell_type": "markdown",
   "metadata": {},
   "source": [
    "### Let's compute ANOVA for the normally distributed ordinal features"
   ]
  },
  {
   "cell_type": "markdown",
   "metadata": {},
   "source": [
    "As we have groups of students formed by some ordinal feature we want to know if the mean final grade significantly different for this groups or not. For this we will use the ANOVA test. Null hypothesis - there is no difference in means between groups. Alternative - such difference actually takes place."
   ]
  },
  {
   "cell_type": "code",
   "execution_count": 11,
   "metadata": {},
   "outputs": [
    {
     "name": "stdout",
     "output_type": "stream",
     "text": [
      "Significant features:\n"
     ]
    },
    {
     "data": {
      "text/html": [
       "<div>\n",
       "<style scoped>\n",
       "    .dataframe tbody tr th:only-of-type {\n",
       "        vertical-align: middle;\n",
       "    }\n",
       "\n",
       "    .dataframe tbody tr th {\n",
       "        vertical-align: top;\n",
       "    }\n",
       "\n",
       "    .dataframe thead th {\n",
       "        text-align: right;\n",
       "    }\n",
       "</style>\n",
       "<table border=\"1\" class=\"dataframe\">\n",
       "  <thead>\n",
       "    <tr style=\"text-align: right;\">\n",
       "      <th></th>\n",
       "      <th>anova_test</th>\n",
       "      <th>anova_p_value</th>\n",
       "      <th>significant</th>\n",
       "    </tr>\n",
       "  </thead>\n",
       "  <tbody>\n",
       "    <tr>\n",
       "      <th>studytime</th>\n",
       "      <td>10.680522</td>\n",
       "      <td>0.000008</td>\n",
       "      <td>Yes</td>\n",
       "    </tr>\n",
       "    <tr>\n",
       "      <th>goout</th>\n",
       "      <td>6.098662</td>\n",
       "      <td>0.000231</td>\n",
       "      <td>Yes</td>\n",
       "    </tr>\n",
       "  </tbody>\n",
       "</table>\n",
       "</div>"
      ],
      "text/plain": [
       "           anova_test  anova_p_value significant\n",
       "studytime   10.680522       0.000008         Yes\n",
       "goout        6.098662       0.000231         Yes"
      ]
     },
     "execution_count": 11,
     "metadata": {},
     "output_type": "execute_result"
    }
   ],
   "source": [
    "norm_ord_info = data[norm_ord].agg([anova_test,anova_p_value]).transpose()\n",
    "norm_ord_info['significant'] = norm_ord_info.apply(lambda x: 'Yes' if x['anova_p_value'] < 0.05 else 'No',axis=1)\n",
    "print('Significant features:')\n",
    "norm_ord_info[norm_ord_info.significant == 'Yes'].sort_values('anova_test',ascending=False)"
   ]
  },
  {
   "cell_type": "markdown",
   "metadata": {},
   "source": [
    "### Performing Spearman test on skewed continious features."
   ]
  },
  {
   "cell_type": "markdown",
   "metadata": {},
   "source": [
    "As it was said above, the Spearman correlation coefficient is used when the features are not distributed normally. Again, we will fill the table only with those features, that are significantly correlated with the final grade. As we can see, non of skewed features is correlated significantly with final grade."
   ]
  },
  {
   "cell_type": "code",
   "execution_count": 12,
   "metadata": {},
   "outputs": [
    {
     "name": "stdout",
     "output_type": "stream",
     "text": [
      "Significant features:\n"
     ]
    },
    {
     "data": {
      "text/html": [
       "<div>\n",
       "<style scoped>\n",
       "    .dataframe tbody tr th:only-of-type {\n",
       "        vertical-align: middle;\n",
       "    }\n",
       "\n",
       "    .dataframe tbody tr th {\n",
       "        vertical-align: top;\n",
       "    }\n",
       "\n",
       "    .dataframe thead th {\n",
       "        text-align: right;\n",
       "    }\n",
       "</style>\n",
       "<table border=\"1\" class=\"dataframe\">\n",
       "  <thead>\n",
       "    <tr style=\"text-align: right;\">\n",
       "      <th></th>\n",
       "      <th>corr_coeff</th>\n",
       "      <th>p_val</th>\n",
       "      <th>significant</th>\n",
       "    </tr>\n",
       "  </thead>\n",
       "  <tbody>\n",
       "  </tbody>\n",
       "</table>\n",
       "</div>"
      ],
      "text/plain": [
       "Empty DataFrame\n",
       "Columns: [corr_coeff, p_val, significant]\n",
       "Index: []"
      ]
     },
     "execution_count": 12,
     "metadata": {},
     "output_type": "execute_result"
    }
   ],
   "source": [
    "cont_skew_info = data[skew_cont].apply([lambda x: spearmanr(x,data['G3'])[0],lambda x: spearmanr(x,data['G3'])[1]]).transpose()\n",
    "cont_skew_info.columns = ['corr_coeff','p_val']\n",
    "cont_skew_info['significant'] = cont_skew_info.apply(lambda x: 'Yes' if x['p_val'] < 0.05 else 'No',axis=1)\n",
    "print('Significant features:')\n",
    "cont_skew_info[cont_skew_info.significant == 'Yes'].sort_values('corr_coeff',ascending=False)"
   ]
  },
  {
   "cell_type": "markdown",
   "metadata": {},
   "source": [
    "### Performing Kruskal-Wallis for skewed ordinal features"
   ]
  },
  {
   "cell_type": "markdown",
   "metadata": {},
   "source": [
    "Since Kruskal-Wallis test is a non-parametric version of ANOVA we could use it  for the same purposes for skewed ordinal features. Again, null hypothesis is that there is no difference in means of different groups, alternative that the such difference actually takes place. As we could see from the table below, looking at the obtained statistics values, the most significant feature is daily alcohol consumption."
   ]
  },
  {
   "cell_type": "code",
   "execution_count": 13,
   "metadata": {},
   "outputs": [
    {
     "name": "stdout",
     "output_type": "stream",
     "text": [
      "Significant features:\n"
     ]
    },
    {
     "data": {
      "text/html": [
       "<div>\n",
       "<style scoped>\n",
       "    .dataframe tbody tr th:only-of-type {\n",
       "        vertical-align: middle;\n",
       "    }\n",
       "\n",
       "    .dataframe tbody tr th {\n",
       "        vertical-align: top;\n",
       "    }\n",
       "\n",
       "    .dataframe thead th {\n",
       "        text-align: right;\n",
       "    }\n",
       "</style>\n",
       "<table border=\"1\" class=\"dataframe\">\n",
       "  <thead>\n",
       "    <tr style=\"text-align: right;\">\n",
       "      <th></th>\n",
       "      <th>kruskal_test</th>\n",
       "      <th>kruskal_p_value</th>\n",
       "      <th>significant</th>\n",
       "    </tr>\n",
       "  </thead>\n",
       "  <tbody>\n",
       "    <tr>\n",
       "      <th>Dalc</th>\n",
       "      <td>46.773550</td>\n",
       "      <td>1.699836e-09</td>\n",
       "      <td>Yes</td>\n",
       "    </tr>\n",
       "    <tr>\n",
       "      <th>famrel</th>\n",
       "      <td>42.222035</td>\n",
       "      <td>1.500411e-08</td>\n",
       "      <td>Yes</td>\n",
       "    </tr>\n",
       "    <tr>\n",
       "      <th>traveltime</th>\n",
       "      <td>41.234674</td>\n",
       "      <td>5.831082e-09</td>\n",
       "      <td>Yes</td>\n",
       "    </tr>\n",
       "    <tr>\n",
       "      <th>Medu</th>\n",
       "      <td>35.790653</td>\n",
       "      <td>3.195308e-07</td>\n",
       "      <td>Yes</td>\n",
       "    </tr>\n",
       "    <tr>\n",
       "      <th>Fedu</th>\n",
       "      <td>31.655825</td>\n",
       "      <td>2.249340e-06</td>\n",
       "      <td>Yes</td>\n",
       "    </tr>\n",
       "    <tr>\n",
       "      <th>failures</th>\n",
       "      <td>31.350712</td>\n",
       "      <td>7.171116e-07</td>\n",
       "      <td>Yes</td>\n",
       "    </tr>\n",
       "    <tr>\n",
       "      <th>freetime</th>\n",
       "      <td>26.559883</td>\n",
       "      <td>2.439614e-05</td>\n",
       "      <td>Yes</td>\n",
       "    </tr>\n",
       "    <tr>\n",
       "      <th>Walc</th>\n",
       "      <td>18.306724</td>\n",
       "      <td>1.074869e-03</td>\n",
       "      <td>Yes</td>\n",
       "    </tr>\n",
       "    <tr>\n",
       "      <th>health</th>\n",
       "      <td>11.642657</td>\n",
       "      <td>2.021613e-02</td>\n",
       "      <td>Yes</td>\n",
       "    </tr>\n",
       "  </tbody>\n",
       "</table>\n",
       "</div>"
      ],
      "text/plain": [
       "            kruskal_test  kruskal_p_value significant\n",
       "Dalc           46.773550     1.699836e-09         Yes\n",
       "famrel         42.222035     1.500411e-08         Yes\n",
       "traveltime     41.234674     5.831082e-09         Yes\n",
       "Medu           35.790653     3.195308e-07         Yes\n",
       "Fedu           31.655825     2.249340e-06         Yes\n",
       "failures       31.350712     7.171116e-07         Yes\n",
       "freetime       26.559883     2.439614e-05         Yes\n",
       "Walc           18.306724     1.074869e-03         Yes\n",
       "health         11.642657     2.021613e-02         Yes"
      ]
     },
     "execution_count": 13,
     "metadata": {},
     "output_type": "execute_result"
    }
   ],
   "source": [
    "ord_skew_info = data[skew_ord].agg([kruskal_test,kruskal_p_value]).transpose()\n",
    "ord_skew_info['significant'] = ord_skew_info.apply(lambda x: 'Yes' if x['kruskal_p_value'] < 0.05 else 'No',axis=1)\n",
    "print('Significant features:')\n",
    "ord_skew_info[ord_skew_info.significant == 'Yes'].sort_values('kruskal_test',ascending=False)"
   ]
  },
  {
   "cell_type": "markdown",
   "metadata": {},
   "source": [
    "## Categorical features"
   ]
  },
  {
   "cell_type": "code",
   "execution_count": 12,
   "metadata": {
    "scrolled": false
   },
   "outputs": [
    {
     "name": "stdout",
     "output_type": "stream",
     "text": [
      "Categories percentage for categorical features:\n",
      "school\n",
      "GP    88.35443\n",
      "MS    11.64557\n",
      "sex\n",
      "F    52.658228\n",
      "M    47.341772\n",
      "address\n",
      "R    22.278481\n",
      "U    77.721519\n",
      "famsize\n",
      "GT3    71.139241\n",
      "LE3    28.860759\n",
      "Pstatus\n",
      "A    10.379747\n",
      "T    89.620253\n",
      "Mjob\n",
      "at_home     14.936709\n",
      "health       8.607595\n",
      "other       35.696203\n",
      "services    26.075949\n",
      "teacher     14.683544\n",
      "Fjob\n",
      "at_home      5.063291\n",
      "health       4.556962\n",
      "other       54.936709\n",
      "services    28.101266\n",
      "teacher      7.341772\n",
      "reason\n",
      "course        36.708861\n",
      "home          27.594937\n",
      "other          9.113924\n",
      "reputation    26.582278\n",
      "guardian\n",
      "father    22.784810\n",
      "mother    69.113924\n",
      "other      8.101266\n",
      "schoolsup\n",
      "no     87.088608\n",
      "yes    12.911392\n",
      "famsup\n",
      "no     38.734177\n",
      "yes    61.265823\n",
      "paid\n",
      "no     54.177215\n",
      "yes    45.822785\n",
      "activities\n",
      "no     49.113924\n",
      "yes    50.886076\n",
      "nursery\n",
      "no     20.506329\n",
      "yes    79.493671\n",
      "higher\n",
      "no      5.063291\n",
      "yes    94.936709\n",
      "internet\n",
      "no     16.708861\n",
      "yes    83.291139\n",
      "romantic\n",
      "no     66.582278\n",
      "yes    33.417722\n"
     ]
    }
   ],
   "source": [
    "print(\"Categories percentage for categorical features:\")\n",
    "for col in dfDis.columns:\n",
    "    print((dfDis.groupby(col)[col].count() / dfDis.shape[0] * 100).to_string())"
   ]
  },
  {
   "cell_type": "code",
   "execution_count": 13,
   "metadata": {},
   "outputs": [],
   "source": [
    "def show_values_on_bars(axs):\n",
    "    def _show_on_single_plot(ax):        \n",
    "        for p in ax.patches:\n",
    "            _x = p.get_x() + p.get_width() / 2\n",
    "            _y = p.get_y() + p.get_height() - 4\n",
    "            value = '{:.2f}'.format(p.get_height())\n",
    "            ax.text(_x, _y, value, ha=\"center\") \n",
    "\n",
    "    if isinstance(axs, np.ndarray):\n",
    "        for idx, ax in np.ndenumerate(axs):\n",
    "            _show_on_single_plot(ax)\n",
    "    else:\n",
    "        _show_on_single_plot(axs)"
   ]
  },
  {
   "cell_type": "markdown",
   "metadata": {},
   "source": [
    "In the histograms below it is clear that the classes in almost every categorical features are pretty unbalanced. The only exceptions are the 'activities' and, more or less, 'sex' features. In other cases we could see strong imbalance in classes distribution."
   ]
  },
  {
   "cell_type": "code",
   "execution_count": 14,
   "metadata": {},
   "outputs": [
    {
     "data": {
      "image/png": "[encoded data removed]",
      "text/plain": [
       "<Figure size 1440x1440 with 16 Axes>"
      ]
     },
     "metadata": {
      "needs_background": "light"
     },
     "output_type": "display_data"
    }
   ],
   "source": [
    "fig,ax = plt.subplots(4,4,figsize=(20,20))\n",
    "fig.suptitle('Category distribution',fontsize=20)\n",
    "for ind,col in enumerate(dfDis.columns[:16]):\n",
    "    sns.barplot(x = col, y = 'age', data = data, ax = ax.flatten()[ind],estimator=lambda x: len(x) / len(dfDis) * 100)\n",
    "    \n",
    "[x.set_xlabel(dfDis.columns[ind],fontsize = 15) for ind,x in enumerate(ax.flatten())];\n",
    "[x.set_ylabel('Percentage',fontsize = 15) for x in ax.flatten()];\n",
    "\n",
    "for ax_ in ax.ravel():\n",
    "    show_values_on_bars(ax_)"
   ]
  },
  {
   "cell_type": "code",
   "execution_count": 15,
   "metadata": {},
   "outputs": [
    {
     "data": {
      "image/png": "[encoded data removed]",
      "text/plain": [
       "<Figure size 432x288 with 1 Axes>"
      ]
     },
     "metadata": {
      "needs_background": "light"
     },
     "output_type": "display_data"
    }
   ],
   "source": [
    "ax = sns.barplot(x = dfDis.columns[-1], y = 'age', data = data,estimator=lambda x: len(x) / len(dfDis) * 100)\n",
    "ax.set_ylabel('Percentage',fontsize=15)\n",
    "ax.set_xlabel('Romantic',fontsize=15)\n",
    "\n",
    "show_values_on_bars(ax)"
   ]
  },
  {
   "cell_type": "markdown",
   "metadata": {},
   "source": [
    "### Boxplots for categorical features"
   ]
  },
  {
   "cell_type": "markdown",
   "metadata": {},
   "source": [
    "Below are boxplot diagrams for the categorical feature. Boxplot is a method for graphically depicting groups of numerical data through their quartiles. The box borders are 25th and 75th percentile, line in the box is the median value, outer borders are minimum and maximum (Q1 - 1.5*IQR, Q3 + 1.5*IQR) and points outside them are outliers. Boxplot could help us to gain quick insights about the data in the form which is easy-to-read. For example, if the look at 'Mjob' feature we will instantly see that the final grade median value is different between groups of students with different 'Mjob' value. Still, we could not rely on the visuals so we will use statistical tests designed to be applied for the categorical features to make further conclusions about different groups and their difference."
   ]
  },
  {
   "cell_type": "code",
   "execution_count": 16,
   "metadata": {
    "scrolled": false
   },
   "outputs": [
    {
     "data": {
      "image/png": "[encoded data removed]",
      "text/plain": [
       "<Figure size 1440x1440 with 16 Axes>"
      ]
     },
     "metadata": {
      "needs_background": "light"
     },
     "output_type": "display_data"
    }
   ],
   "source": [
    "fig,ax = plt.subplots(4,4,figsize=(20,20))\n",
    "fig.suptitle('Boxplots for categorical features',fontsize=20)\n",
    "for ind,col in enumerate(dfDis.columns[:16]):\n",
    "    sns.boxplot(x = col, y = 'G3', data = data, ax = ax.flatten()[ind])\n",
    "    \n",
    "[x.set_xlabel(dfDis.columns[ind],fontsize = 15) for ind,x in enumerate(ax.flatten())];\n",
    "[x.set_ylabel('G3',fontsize = 15) if ind%4 == 0 else x.set_ylabel('',fontsize = 15) for ind,x in enumerate(ax.flatten())];\n",
    "\n",
    "for ax_ in ax.ravel():\n",
    "    show_values_on_bars(ax_)"
   ]
  },
  {
   "cell_type": "code",
   "execution_count": 17,
   "metadata": {},
   "outputs": [
    {
     "data": {
      "image/png": "[encoded data removed]",
      "text/plain": [
       "<Figure size 432x288 with 1 Axes>"
      ]
     },
     "metadata": {
      "needs_background": "light"
     },
     "output_type": "display_data"
    }
   ],
   "source": [
    "ax = sns.boxplot(x = dfDis.columns[-1], y = 'G3', data = data)\n",
    "ax.set_ylabel('G3',fontsize=15)\n",
    "ax.set_xlabel('Romantic',fontsize=15)\n",
    "\n",
    "show_values_on_bars(ax)"
   ]
  },
  {
   "cell_type": "markdown",
   "metadata": {},
   "source": [
    "### For the categorical features we will aplly a simple scheme. First, we will encode all the features to the binary space and then we will use chi-square test to identify features, for which mean grade in groups will be significantly different."
   ]
  },
  {
   "cell_type": "code",
   "execution_count": 14,
   "metadata": {},
   "outputs": [],
   "source": [
    "dfDis = pd.get_dummies(dfDis)"
   ]
  },
  {
   "cell_type": "code",
   "execution_count": 15,
   "metadata": {},
   "outputs": [
    {
     "name": "stdout",
     "output_type": "stream",
     "text": [
      "Significant features:\n"
     ]
    },
    {
     "data": {
      "text/html": [
       "<div>\n",
       "<style scoped>\n",
       "    .dataframe tbody tr th:only-of-type {\n",
       "        vertical-align: middle;\n",
       "    }\n",
       "\n",
       "    .dataframe tbody tr th {\n",
       "        vertical-align: top;\n",
       "    }\n",
       "\n",
       "    .dataframe thead th {\n",
       "        text-align: right;\n",
       "    }\n",
       "</style>\n",
       "<table border=\"1\" class=\"dataframe\">\n",
       "  <thead>\n",
       "    <tr style=\"text-align: right;\">\n",
       "      <th></th>\n",
       "      <th>chi2</th>\n",
       "      <th>p_val</th>\n",
       "      <th>significant</th>\n",
       "    </tr>\n",
       "  </thead>\n",
       "  <tbody>\n",
       "    <tr>\n",
       "      <th>schoolsup_yes</th>\n",
       "      <td>32.517477</td>\n",
       "      <td>0.012967</td>\n",
       "      <td>Yes</td>\n",
       "    </tr>\n",
       "    <tr>\n",
       "      <th>schoolsup_no</th>\n",
       "      <td>32.517477</td>\n",
       "      <td>0.012967</td>\n",
       "      <td>Yes</td>\n",
       "    </tr>\n",
       "    <tr>\n",
       "      <th>romantic_yes</th>\n",
       "      <td>30.172482</td>\n",
       "      <td>0.025128</td>\n",
       "      <td>Yes</td>\n",
       "    </tr>\n",
       "    <tr>\n",
       "      <th>romantic_no</th>\n",
       "      <td>30.172482</td>\n",
       "      <td>0.025128</td>\n",
       "      <td>Yes</td>\n",
       "    </tr>\n",
       "    <tr>\n",
       "      <th>paid_yes</th>\n",
       "      <td>29.772479</td>\n",
       "      <td>0.028033</td>\n",
       "      <td>Yes</td>\n",
       "    </tr>\n",
       "    <tr>\n",
       "      <th>paid_no</th>\n",
       "      <td>29.772479</td>\n",
       "      <td>0.028033</td>\n",
       "      <td>Yes</td>\n",
       "    </tr>\n",
       "    <tr>\n",
       "      <th>Mjob_services</th>\n",
       "      <td>29.204075</td>\n",
       "      <td>0.032690</td>\n",
       "      <td>Yes</td>\n",
       "    </tr>\n",
       "  </tbody>\n",
       "</table>\n",
       "</div>"
      ],
      "text/plain": [
       "                    chi2     p_val significant\n",
       "schoolsup_yes  32.517477  0.012967         Yes\n",
       "schoolsup_no   32.517477  0.012967         Yes\n",
       "romantic_yes   30.172482  0.025128         Yes\n",
       "romantic_no    30.172482  0.025128         Yes\n",
       "paid_yes       29.772479  0.028033         Yes\n",
       "paid_no        29.772479  0.028033         Yes\n",
       "Mjob_services  29.204075  0.032690         Yes"
      ]
     },
     "execution_count": 15,
     "metadata": {},
     "output_type": "execute_result"
    }
   ],
   "source": [
    "cat_info = dfDis.agg([chi_2_test,chi_2_p_value]).transpose()\n",
    "cat_info['significant'] = cat_info['chi_2_p_value'].apply(lambda x: 'Yes' if x < .05 else 'No')\n",
    "cat_info.columns = ['chi2','p_val','significant']\n",
    "print('Significant features:')\n",
    "cat_info[cat_info.significant == 'Yes'].sort_values('chi2',ascending=False)"
   ]
  },
  {
   "cell_type": "markdown",
   "metadata": {},
   "source": [
    "# Modeling and optimization"
   ]
  },
  {
   "cell_type": "markdown",
   "metadata": {},
   "source": [
    "After the exploratory data analysis stage it is time for modeling. Modeling is crucial for optimization tasks since it is safer, cheaper and in a lot of situations faster to check out different approaches to the problem by changing the input data and looking to the output of the model. Hence, if we will succeed in building the predictive model and it will produce reliable results we could use this model for solving our problem."
   ]
  },
  {
   "cell_type": "markdown",
   "metadata": {},
   "source": [
    "There is a common scheme for building such models. First, we split our data to  train and validation sets in proportion 9:1. Train set will be used for building model and hyperparameter tuning and validation set is used on the final stage to get unbiased metric of our model. For the train data we will use cross-validation scheme, which shrinks training data to even chunks and perform train-prediction procedure multiple times so that our performance metric value is less biased.[[4](#Literature)]"
   ]
  },
  {
   "cell_type": "markdown",
   "metadata": {},
   "source": [
    "In machine learning, hyperparameter optimization or tuning is the problem of choosing a set of optimal hyperparameters for a learning algorithm. A hyperparameter is a parameter whose value is used to control the learning process. By contrast, the values of other parameters (typically node weights) are learned.[[4](#Literature)]"
   ]
  },
  {
   "cell_type": "markdown",
   "metadata": {},
   "source": [
    "## Optimization example 1. Final grade prediction. Baseline prediction - median grade in train data"
   ]
  },
  {
   "cell_type": "markdown",
   "metadata": {},
   "source": [
    "For final grade prediction we will use all the data given except the 'G2' and 'G1' features since it is is more difficult to predict G3 without G2 and G1, but such prediction is much more useful."
   ]
  },
  {
   "cell_type": "markdown",
   "metadata": {},
   "source": [
    "First, let's set up a baseline for our model. For example, what value will RMSE metric take if we will always predict the median value of the final grade?"
   ]
  },
  {
   "cell_type": "code",
   "execution_count": 35,
   "metadata": {},
   "outputs": [
    {
     "name": "stdout",
     "output_type": "stream",
     "text": [
      "Baseline for final grade prediction: 4.5669\n"
     ]
    }
   ],
   "source": [
    "whole_data = pd.concat([dfNum,dfDis],axis=1).drop(['G2','G1'],axis=1)\n",
    "train,test = train_test_split(whole_data,random_state=42,test_size = .1,shuffle=True)\n",
    "baseline = rmse([train['G3'].median() for i in range(train.shape[0])],train['G3'])\n",
    "print('Baseline for final grade prediction: %.4f' % baseline)"
   ]
  },
  {
   "cell_type": "markdown",
   "metadata": {},
   "source": [
    "First, let's model the desired process - in this case the student's performance. First, we will try Linear Regression with all the features"
   ]
  },
  {
   "cell_type": "code",
   "execution_count": 36,
   "metadata": {
    "scrolled": true
   },
   "outputs": [
    {
     "name": "stdout",
     "output_type": "stream",
     "text": [
      "Simple Linear Regression with all the features with RMSE as a metric.\n",
      "Linear Regression, all features score: 4.1791\n"
     ]
    }
   ],
   "source": [
    "whole_data = pd.concat([dfNum,dfDis],axis=1).drop(['G2','G1'],axis=1)\n",
    "train,test = train_test_split(whole_data,random_state=42,test_size = .1,shuffle=True)\n",
    "X_train,y_train, X_test, y_test = train.drop('G3',axis=1),train['G3'],test.drop('G3',axis=1),test['G3']\n",
    "lr = LinearRegression()\n",
    "print('Simple Linear Regression with all the features with RMSE as a metric.')\n",
    "print('Linear Regression, all features score: %.4f' % (cross_val_score(lr,X_train,y_train,scoring=rmse_scorer,cv=ShuffleSplit(n_splits=5,random_state=42)).mean()))"
   ]
  },
  {
   "cell_type": "markdown",
   "metadata": {},
   "source": [
    "Result is better than the baseline so our model is working. But could we do better? For example, let's leave only those features, that are significantly correlate with the target feature."
   ]
  },
  {
   "cell_type": "code",
   "execution_count": 37,
   "metadata": {},
   "outputs": [
    {
     "name": "stdout",
     "output_type": "stream",
     "text": [
      "Let's leave only the significant features with linear correlation with target variable\n",
      "Linear Regression trained on significant features: 4.1841\n"
     ]
    }
   ],
   "source": [
    "good_features = np.hstack([norm_ord_info[norm_ord_info.significant == 'Yes'].index,\\\n",
    "                            norm_cont_info[norm_cont_info.significant == 'Yes'].index,\\\n",
    "                            cont_skew_info[cont_skew_info.significant == 'Yes'].index,\\\n",
    "                            ord_skew_info[ord_skew_info.significant == 'Yes'].index,\\\n",
    "                            cat_info[cat_info.significant == 'Yes'].index,['G3']])\n",
    "whole_data = pd.concat([dfNum,dfDis],axis=1)[good_features].drop(['G2','G1'],axis=1)\n",
    "train,test = train_test_split(whole_data,random_state=42,test_size = .1,shuffle=True)\n",
    "X_train,y_train, X_test, y_test = train.drop('G3',axis=1),train['G3'],test.drop('G3',axis=1),test['G3']\n",
    "lr = LinearRegression()\n",
    "print(\"Let's leave only the significant features with linear correlation with target variable\")\n",
    "#cross_val_score(estimator, data to fit, variable for prediction, estimator, cv-determines \n",
    "#the cross-validation splitting strategy)\n",
    "\n",
    "print('Linear Regression trained on significant features: %.4f' % abs(cross_val_score(lr,X_train,y_train,scoring=rmse_scorer,cv=ShuffleSplit(n_splits=5,random_state=42)).mean()))"
   ]
  },
  {
   "cell_type": "markdown",
   "metadata": {},
   "source": [
    "As the total score after excluding not correlated features has gotten worse we could make aconclusion that there could be non-linear interactions between variables which we couldn'tfind with statistical tests. Other availible option is to apply log-transform for the skewed features since it is sometimes increase the linear models performance. Let's apply this transformation to the 'age' and 'absences' features."
   ]
  },
  {
   "cell_type": "code",
   "execution_count": 38,
   "metadata": {},
   "outputs": [
    {
     "name": "stdout",
     "output_type": "stream",
     "text": [
      "Linear Regression trained on all features with additional log-transform: 4.0997\n"
     ]
    }
   ],
   "source": [
    "whole_data = pd.concat([dfNum,dfDis],axis=1).drop(['G2','G1'],axis=1)\n",
    "whole_data[['age','absences']] = whole_data[['age','absences']].apply(lambda x: np.log1p(x))#log(1+x)\n",
    "train,test = train_test_split(whole_data,random_state=42,test_size = .1,shuffle=True)\n",
    "X_train,y_train, X_test, y_test = train.drop('G3',axis=1),train['G3'],test.drop('G3',axis=1),test['G3']\n",
    "lr = LinearRegression()\n",
    "print('Linear Regression trained on all features with additional log-transform: %.4f' % abs(cross_val_score(lr,X_train,y_train,scoring=rmse_scorer,cv=ShuffleSplit(n_splits=5,random_state=42)).mean()))"
   ]
  },
  {
   "cell_type": "markdown",
   "metadata": {},
   "source": [
    "Finally, let's try non-linear model. Since we found that there could be non-linear interactions between variables we could benefit from using non-linear model such as Random Forest."
   ]
  },
  {
   "cell_type": "code",
   "execution_count": 39,
   "metadata": {},
   "outputs": [
    {
     "name": "stdout",
     "output_type": "stream",
     "text": [
      "Random Forest trained on all features with additional log-transform: 5.4808\n"
     ]
    }
   ],
   "source": [
    "rf = RandomForestClassifier(random_state = 42)\n",
    "whole_data = pd.concat([dfNum,dfDis],axis=1).drop(['G2','G1'],axis=1)\n",
    "whole_data[['age','absences']] = whole_data[['age','absences']].apply(lambda x: np.log1p(x))\n",
    "train,test = train_test_split(whole_data,random_state=42,test_size = .1,shuffle=True)\n",
    "X_train,y_train, X_test, y_test = train.drop('G3',axis=1),train['G3'],test.drop('G3',axis=1),test['G3']\n",
    "print('Random Forest trained on all features with additional log-transform: %.4f' % abs(cross_val_score(rf,X_train,y_train,scoring=rmse_scorer,cv=ShuffleSplit(n_splits=5,random_state=42)).mean()))"
   ]
  },
  {
   "cell_type": "markdown",
   "metadata": {},
   "source": [
    "As we could see, the Linear Regression outperformed Random Forest. Let's do the final check and get the RMSE on the validation set."
   ]
  },
  {
   "cell_type": "code",
   "execution_count": 40,
   "metadata": {
    "scrolled": true
   },
   "outputs": [
    {
     "name": "stdout",
     "output_type": "stream",
     "text": [
      "Linear Regression RMSE on validation set: 4.6957\n",
      "Random Forest RMSE on validation set: 6.7063\n"
     ]
    }
   ],
   "source": [
    "print('Linear Regression RMSE on validation set: %.4f' % rmse(y_test,list(map(int,lr.fit(X_train,y_train).predict(X_test)))))\n",
    "print('Random Forest RMSE on validation set: %.4f' % rmse(y_test,list(map(int,rf.fit(X_train,y_train).predict(X_test)))))"
   ]
  },
  {
   "cell_type": "markdown",
   "metadata": {},
   "source": [
    "Turns out, the Linear Regression is our best choice."
   ]
  },
  {
   "cell_type": "markdown",
   "metadata": {},
   "source": [
    "### Optimization, analysis of the results"
   ]
  },
  {
   "cell_type": "code",
   "execution_count": 41,
   "metadata": {},
   "outputs": [
    {
     "name": "stdout",
     "output_type": "stream",
     "text": [
      "Significantly correlated features: studytime, goout, age, G1, G2, Medu, Fedu, traveltime, failures, famrel, freetime, Dalc, Walc, health, Mjob_services, schoolsup_no, schoolsup_yes, paid_no, paid_yes, romantic_no, romantic_yes, G3\n"
     ]
    }
   ],
   "source": [
    "print('Significantly correlated features: ' + ', '.join(good_features))"
   ]
  },
  {
   "cell_type": "markdown",
   "metadata": {},
   "source": [
    "Using the obtained knowledge we changed the input data to optimize the desired process. We then used the model to predict how the changes will affect the outcome. In order to increase number of students with excellent final grade we decreased their alcohol consumption and talked to their parents to underline the necessity of making the study their kids first priority instead of having a lot of free time. But the most impressive results were obtained by lowering the age of students by one which may be explained by the fact, that ability to learn is decreasing with age."
   ]
  },
  {
   "cell_type": "code",
   "execution_count": 76,
   "metadata": {},
   "outputs": [],
   "source": [
    "def show_values_on_bars(axs):\n",
    "    def _show_on_single_plot(ax):        \n",
    "        for p in ax.patches:\n",
    "            _x = p.get_x() + p.get_width() / 2\n",
    "            _y = p.get_y() + p.get_height() - 20\n",
    "            value = '{:.2f}'.format(p.get_height())\n",
    "            ax.text(_x, _y, value, ha=\"center\") \n",
    "\n",
    "    if isinstance(axs, np.ndarray):\n",
    "        for idx, ax in np.ndenumerate(axs):\n",
    "            _show_on_single_plot(ax)\n",
    "    else:\n",
    "        _show_on_single_plot(axs)"
   ]
  },
  {
   "cell_type": "code",
   "execution_count": 79,
   "metadata": {},
   "outputs": [],
   "source": [
    "updated_data = whole_data.copy(deep=True).drop('G3',1)\n",
    "updated_data['Walc'] = updated_data['Walc'].apply(lambda x: math.ceil(x * .8))\n",
    "updated_data['Dalc'] = updated_data['Dalc'].apply(lambda x: math.ceil(x * .4))\n",
    "updated_data['freetime'] = updated_data['freetime'].apply(lambda x: math.ceil(x * .7))\n",
    "#updated_data['age'] = updated_data['age'] - 1"
   ]
  },
  {
   "cell_type": "code",
   "execution_count": 80,
   "metadata": {},
   "outputs": [
    {
     "name": "stdout",
     "output_type": "stream",
     "text": [
      "Excellent students percentage before optimization: 6.0759\n",
      "Excellent students percentage after optimization: 0.5063\n",
      "Cohen-Kappa score: 0.0564\n"
     ]
    },
    {
     "data": {
      "image/png": "[encoded data removed]",
      "text/plain": [
       "<Figure size 720x288 with 2 Axes>"
      ]
     },
     "metadata": {
      "needs_background": "light"
     },
     "output_type": "display_data"
    }
   ],
   "source": [
    "fig,ax = plt.subplots(1,2,figsize=(10,4))\n",
    "sns.countplot((data.G3 > 16).replace({True:'Excellent students',False:'Other students'}),ax=ax[0])\n",
    "ax[0].set_title('Before optimization')\n",
    "sns.countplot(['Excellent students' if x == True else 'Other students' for x in (lr.predict(updated_data) > 16)],ax = ax[1])\n",
    "ax[1].set_title('After optimization')\n",
    "for ax_ in ax.flatten():\n",
    "    show_values_on_bars(ax_)\n",
    "    \n",
    "print('Excellent students percentage before optimization: %.4f' % (sum(data.G3 > 16) / data.shape[0] * 100))\n",
    "print('Excellent students percentage after optimization: %.4f' % (sum(lr.predict(updated_data) > 16) / data.shape[0] * 100))\n",
    "# print('Cohen-Kappa score: %.4f' % (cohen_kappa_score(data.G3,lr.predict(updated_data))))\n",
    "print('Cohen-Kappa score: %.4f' % (cohen_kappa_score(data.G3,(lr.predict(updated_data)).astype('int32'))))"
   ]
  },
  {
   "cell_type": "code",
   "execution_count": 30,
   "metadata": {},
   "outputs": [
    {
     "data": {
      "image/png": "[encoded data removed]",
      "text/plain": [
       "<Figure size 576x360 with 1 Axes>"
      ]
     },
     "metadata": {
      "needs_background": "light"
     },
     "output_type": "display_data"
    }
   ],
   "source": [
    "f, ax = plt.subplots(1, figsize = (8,5))\n",
    "sm.graphics.mean_diff_plot(data.G3, lr.predict(updated_data),ax=ax)\n",
    "ax.set_title('Bland-Atman plot for final grade before and after optimization',fontsize=15)\n",
    "plt.show()"
   ]
  },
  {
   "cell_type": "markdown",
   "metadata": {},
   "source": [
    "Bland Atman plot and Cohen-Cappa score are used in this work in order to make sure, that changes in the process are relevant and trustworthy. The lower Cohen-Cappa score - the better for our purposes. Cohen-Cappa score and the look of Bland-Atman plot confirm that our optimization results are relevant and trustworthy.\n"
   ]
  },
  {
   "cell_type": "markdown",
   "metadata": {},
   "source": [
    "We use DPMO in this work as the success metric for the optimization task. DPNO stands for Defects-Per-Million-Opportunities. It is also called as NPMO or Nonconformities per Million Opportunities. It is defined as the ratio of the number of defects in a sample to the total number of defect opportunities multiplied by 1 million. DPMO is a long-term measure of process performance. It is a measure of the error rate of a process. The metric tells you how good your process is towards committing mistakes. After computing the DPMO value we look at the table for the corresponding sigma value (http://www.sixsigmadigest.com/support-files/DPMO-Sigma-Table.pdf). [[10](#Literature)]"
   ]
  },
  {
   "cell_type": "markdown",
   "metadata": {},
   "source": [
    "The term \"six sigma\" comes from statistics and is used in statistical quality control, which evaluates process capability. Originally, it referred to the ability of manufacturing processes to produce a very high proportion of output within specification. Processes that operate with \"six sigma quality\" over the short term are assumed to produce long-term defect levels below 3.4 defects per million opportunities (DPMO). Our global task is to optimize the process - minimize the DPMO value and maximize according sigma value.[[10](#Literature)]"
   ]
  },
  {
   "cell_type": "code",
   "execution_count": 32,
   "metadata": {},
   "outputs": [
    {
     "name": "stdout",
     "output_type": "stream",
     "text": [
      "DPMO before optimization: 898734.1772, Sigma ~ 0.3\n",
      "DPMO after optimization: 212658.2278, Sigma ~ 2.3\n"
     ]
    }
   ],
   "source": [
    "print('DPMO before optimization: %.4f, Sigma ~ 0.3' % (sum(data.G3 < 16) / len(data.G3) * 10**6))\n",
    "print('DPMO after optimization: %.4f, Sigma ~ 2.3' % (sum(lr.predict(updated_data) < 16) / len(data.G3) * 10**6))"
   ]
  },
  {
   "cell_type": "markdown",
   "metadata": {},
   "source": [
    "# Optimization example 2"
   ]
  },
  {
   "cell_type": "markdown",
   "metadata": {},
   "source": [
    "Let's choose some other variable, for example 'Walc' (weekdays alcohol consumption). The performance metric will be F1-score which is a very common metric for this kind of tasks. Unlike RMSE here - the bigger is better. Let's find out how we could decrease the alcohol consumption. First, we will quickly repeat all the statistical tests, now with respect to 'Walc' feature.\n"
   ]
  },
  {
   "cell_type": "code",
   "execution_count": 33,
   "metadata": {},
   "outputs": [],
   "source": [
    "def pearson_corr(some_data,grade='Walc'):\n",
    "    #Returns Pearson correlation coefficient\n",
    "    global data\n",
    "    return pearsonr(some_data,data[grade])[0]\n",
    "\n",
    "def pearson_p_value(some_data,grade='Walc'):\n",
    "    #Returns p-value for Pearson correlation coefficient\n",
    "    global data\n",
    "    return pearsonr(some_data,data[grade])[1]\n",
    "\n",
    "def anova_test(some_data):\n",
    "    global data\n",
    "    return f_oneway(*pd.crosstab(some_data.values,data['Walc']).values)[0]\n",
    "\n",
    "def anova_p_value(some_data):\n",
    "    global data\n",
    "    return f_oneway(*pd.crosstab(some_data.values,data['Walc']).values)[1]\n",
    "\n",
    "def kruskal_test(some_data):\n",
    "    global data\n",
    "    return kruskal(*pd.crosstab(some_data.values,data['Walc']).values)[0]\n",
    "\n",
    "def kruskal_p_value(some_data):\n",
    "    global data\n",
    "    return kruskal(*pd.crosstab(some_data.values,data['Walc']).values)[1]\n",
    "\n",
    "def chi_2_test(some_data):\n",
    "    global data\n",
    "    return chi2_contingency(pd.crosstab(some_data.values,data['Walc']),\\\n",
    "                            correction = False)[0]\n",
    "def chi_2_p_value(some_data):\n",
    "    global data\n",
    "    return chi2_contingency(pd.crosstab(some_data.values,data['Walc']),\\\n",
    "                            correction = False)[1]\n",
    "\n",
    "def show_values_on_bars(axs):\n",
    "    def _show_on_single_plot(ax):        \n",
    "        for p in ax.patches:\n",
    "            _x = p.get_x() + p.get_width() / 2\n",
    "            _y = p.get_y() + p.get_height() + 1\n",
    "            value = '{:.2f}'.format(p.get_height())\n",
    "            ax.text(_x, _y, value, ha=\"center\") \n",
    "\n",
    "    if isinstance(axs, np.ndarray):\n",
    "        for idx, ax in np.ndenumerate(axs):\n",
    "            _show_on_single_plot(ax)\n",
    "    else:\n",
    "        _show_on_single_plot(axs)\n"
   ]
  },
  {
   "cell_type": "code",
   "execution_count": 34,
   "metadata": {},
   "outputs": [
    {
     "name": "stdout",
     "output_type": "stream",
     "text": [
      "Significant features:\n"
     ]
    },
    {
     "data": {
      "text/html": [
       "<div>\n",
       "<style scoped>\n",
       "    .dataframe tbody tr th:only-of-type {\n",
       "        vertical-align: middle;\n",
       "    }\n",
       "\n",
       "    .dataframe tbody tr th {\n",
       "        vertical-align: top;\n",
       "    }\n",
       "\n",
       "    .dataframe thead th {\n",
       "        text-align: right;\n",
       "    }\n",
       "</style>\n",
       "<table border=\"1\" class=\"dataframe\">\n",
       "  <thead>\n",
       "    <tr style=\"text-align: right;\">\n",
       "      <th></th>\n",
       "      <th>pearson_corr</th>\n",
       "      <th>pearson_p_value</th>\n",
       "      <th>significant</th>\n",
       "    </tr>\n",
       "  </thead>\n",
       "  <tbody>\n",
       "    <tr>\n",
       "      <td>G2</td>\n",
       "      <td>0.904868</td>\n",
       "      <td>7.625719e-148</td>\n",
       "      <td>Yes</td>\n",
       "    </tr>\n",
       "    <tr>\n",
       "      <td>G1</td>\n",
       "      <td>0.801468</td>\n",
       "      <td>9.001430e-90</td>\n",
       "      <td>Yes</td>\n",
       "    </tr>\n",
       "    <tr>\n",
       "      <td>age</td>\n",
       "      <td>-0.161579</td>\n",
       "      <td>1.271439e-03</td>\n",
       "      <td>Yes</td>\n",
       "    </tr>\n",
       "  </tbody>\n",
       "</table>\n",
       "</div>"
      ],
      "text/plain": [
       "     pearson_corr  pearson_p_value significant\n",
       "G2       0.904868    7.625719e-148         Yes\n",
       "G1       0.801468     9.001430e-90         Yes\n",
       "age     -0.161579     1.271439e-03         Yes"
      ]
     },
     "execution_count": 34,
     "metadata": {},
     "output_type": "execute_result"
    }
   ],
   "source": [
    "norm_сont_info = data[norm_cont].agg([pearson_corr,pearson_p_value]).transpose()\n",
    "norm_cont_info['significant'] = norm_cont_info.apply(lambda x: 'Yes' if x['pearson_p_value'] < 0.05 else 'No',axis=1)\n",
    "print('Significant features:')\n",
    "norm_cont_info[norm_cont_info.significant == 'Yes'].sort_values('pearson_corr',ascending=False)"
   ]
  },
  {
   "cell_type": "code",
   "execution_count": 35,
   "metadata": {},
   "outputs": [
    {
     "name": "stdout",
     "output_type": "stream",
     "text": [
      "Significant features:\n"
     ]
    },
    {
     "data": {
      "text/html": [
       "<div>\n",
       "<style scoped>\n",
       "    .dataframe tbody tr th:only-of-type {\n",
       "        vertical-align: middle;\n",
       "    }\n",
       "\n",
       "    .dataframe tbody tr th {\n",
       "        vertical-align: top;\n",
       "    }\n",
       "\n",
       "    .dataframe thead th {\n",
       "        text-align: right;\n",
       "    }\n",
       "</style>\n",
       "<table border=\"1\" class=\"dataframe\">\n",
       "  <thead>\n",
       "    <tr style=\"text-align: right;\">\n",
       "      <th></th>\n",
       "      <th>anova_test</th>\n",
       "      <th>anova_p_value</th>\n",
       "      <th>significant</th>\n",
       "    </tr>\n",
       "  </thead>\n",
       "  <tbody>\n",
       "    <tr>\n",
       "      <td>studytime</td>\n",
       "      <td>5.250487</td>\n",
       "      <td>0.010303</td>\n",
       "      <td>Yes</td>\n",
       "    </tr>\n",
       "  </tbody>\n",
       "</table>\n",
       "</div>"
      ],
      "text/plain": [
       "           anova_test  anova_p_value significant\n",
       "studytime    5.250487       0.010303         Yes"
      ]
     },
     "execution_count": 35,
     "metadata": {},
     "output_type": "execute_result"
    }
   ],
   "source": [
    "norm_ord_info = data[norm_ord].agg([anova_test,anova_p_value]).transpose()\n",
    "norm_ord_info['significant'] = norm_ord_info.apply(lambda x: 'Yes' if x['anova_p_value'] < 0.05 else 'No',axis=1)\n",
    "print('Significant features:')\n",
    "norm_ord_info[norm_ord_info.significant == 'Yes'].sort_values('anova_test',ascending=False)"
   ]
  },
  {
   "cell_type": "code",
   "execution_count": 36,
   "metadata": {},
   "outputs": [
    {
     "name": "stdout",
     "output_type": "stream",
     "text": [
      "Significant features:\n"
     ]
    },
    {
     "data": {
      "text/html": [
       "<div>\n",
       "<style scoped>\n",
       "    .dataframe tbody tr th:only-of-type {\n",
       "        vertical-align: middle;\n",
       "    }\n",
       "\n",
       "    .dataframe tbody tr th {\n",
       "        vertical-align: top;\n",
       "    }\n",
       "\n",
       "    .dataframe thead th {\n",
       "        text-align: right;\n",
       "    }\n",
       "</style>\n",
       "<table border=\"1\" class=\"dataframe\">\n",
       "  <thead>\n",
       "    <tr style=\"text-align: right;\">\n",
       "      <th></th>\n",
       "      <th>corr_coeff</th>\n",
       "      <th>p_val</th>\n",
       "      <th>significant</th>\n",
       "    </tr>\n",
       "  </thead>\n",
       "  <tbody>\n",
       "  </tbody>\n",
       "</table>\n",
       "</div>"
      ],
      "text/plain": [
       "Empty DataFrame\n",
       "Columns: [corr_coeff, p_val, significant]\n",
       "Index: []"
      ]
     },
     "execution_count": 36,
     "metadata": {},
     "output_type": "execute_result"
    }
   ],
   "source": [
    "cont_skew_info = data[skew_cont].apply([lambda x: spearmanr(x,data['G3'])[0],lambda x: spearmanr(x,data['G3'])[1]]).transpose()\n",
    "cont_skew_info.columns = ['corr_coeff','p_val']\n",
    "cont_skew_info['significant'] = cont_skew_info.apply(lambda x: 'Yes' if x['p_val'] < 0.05 else 'No',axis=1)\n",
    "print('Significant features:')\n",
    "cont_skew_info[cont_skew_info.significant == 'Yes'].sort_values('corr_coeff',ascending=False)\n"
   ]
  },
  {
   "cell_type": "code",
   "execution_count": 37,
   "metadata": {},
   "outputs": [
    {
     "name": "stdout",
     "output_type": "stream",
     "text": [
      "Significant features:\n"
     ]
    },
    {
     "data": {
      "text/html": [
       "<div>\n",
       "<style scoped>\n",
       "    .dataframe tbody tr th:only-of-type {\n",
       "        vertical-align: middle;\n",
       "    }\n",
       "\n",
       "    .dataframe tbody tr th {\n",
       "        vertical-align: top;\n",
       "    }\n",
       "\n",
       "    .dataframe thead th {\n",
       "        text-align: right;\n",
       "    }\n",
       "</style>\n",
       "<table border=\"1\" class=\"dataframe\">\n",
       "  <thead>\n",
       "    <tr style=\"text-align: right;\">\n",
       "      <th></th>\n",
       "      <th>kruskal_test</th>\n",
       "      <th>kruskal_p_value</th>\n",
       "      <th>significant</th>\n",
       "    </tr>\n",
       "  </thead>\n",
       "  <tbody>\n",
       "    <tr>\n",
       "      <td>famrel</td>\n",
       "      <td>19.187027</td>\n",
       "      <td>0.000722</td>\n",
       "      <td>Yes</td>\n",
       "    </tr>\n",
       "    <tr>\n",
       "      <td>failures</td>\n",
       "      <td>14.738073</td>\n",
       "      <td>0.002055</td>\n",
       "      <td>Yes</td>\n",
       "    </tr>\n",
       "    <tr>\n",
       "      <td>Medu</td>\n",
       "      <td>14.212311</td>\n",
       "      <td>0.006647</td>\n",
       "      <td>Yes</td>\n",
       "    </tr>\n",
       "    <tr>\n",
       "      <td>traveltime</td>\n",
       "      <td>14.070348</td>\n",
       "      <td>0.002811</td>\n",
       "      <td>Yes</td>\n",
       "    </tr>\n",
       "    <tr>\n",
       "      <td>Dalc</td>\n",
       "      <td>13.214096</td>\n",
       "      <td>0.010276</td>\n",
       "      <td>Yes</td>\n",
       "    </tr>\n",
       "    <tr>\n",
       "      <td>freetime</td>\n",
       "      <td>12.663475</td>\n",
       "      <td>0.013043</td>\n",
       "      <td>Yes</td>\n",
       "    </tr>\n",
       "    <tr>\n",
       "      <td>Fedu</td>\n",
       "      <td>11.968421</td>\n",
       "      <td>0.017588</td>\n",
       "      <td>Yes</td>\n",
       "    </tr>\n",
       "  </tbody>\n",
       "</table>\n",
       "</div>"
      ],
      "text/plain": [
       "            kruskal_test  kruskal_p_value significant\n",
       "famrel         19.187027         0.000722         Yes\n",
       "failures       14.738073         0.002055         Yes\n",
       "Medu           14.212311         0.006647         Yes\n",
       "traveltime     14.070348         0.002811         Yes\n",
       "Dalc           13.214096         0.010276         Yes\n",
       "freetime       12.663475         0.013043         Yes\n",
       "Fedu           11.968421         0.017588         Yes"
      ]
     },
     "execution_count": 37,
     "metadata": {},
     "output_type": "execute_result"
    }
   ],
   "source": [
    "ord_skew_info = data[skew_ord].agg([kruskal_test,kruskal_p_value]).transpose()\n",
    "ord_skew_info['significant'] = ord_skew_info.apply(lambda x: 'Yes' if x['kruskal_p_value'] < 0.05 else 'No',axis=1)\n",
    "print('Significant features:')\n",
    "ord_skew_info[ord_skew_info.significant == 'Yes'].sort_values('kruskal_test',ascending=False)"
   ]
  },
  {
   "cell_type": "code",
   "execution_count": 38,
   "metadata": {},
   "outputs": [
    {
     "name": "stdout",
     "output_type": "stream",
     "text": [
      "Significant features:\n"
     ]
    },
    {
     "data": {
      "text/html": [
       "<div>\n",
       "<style scoped>\n",
       "    .dataframe tbody tr th:only-of-type {\n",
       "        vertical-align: middle;\n",
       "    }\n",
       "\n",
       "    .dataframe tbody tr th {\n",
       "        vertical-align: top;\n",
       "    }\n",
       "\n",
       "    .dataframe thead th {\n",
       "        text-align: right;\n",
       "    }\n",
       "</style>\n",
       "<table border=\"1\" class=\"dataframe\">\n",
       "  <thead>\n",
       "    <tr style=\"text-align: right;\">\n",
       "      <th></th>\n",
       "      <th>chi2</th>\n",
       "      <th>p_val</th>\n",
       "      <th>significant</th>\n",
       "    </tr>\n",
       "  </thead>\n",
       "  <tbody>\n",
       "    <tr>\n",
       "      <td>sex_F</td>\n",
       "      <td>37.363640</td>\n",
       "      <td>1.515842e-07</td>\n",
       "      <td>Yes</td>\n",
       "    </tr>\n",
       "    <tr>\n",
       "      <td>sex_M</td>\n",
       "      <td>37.363640</td>\n",
       "      <td>1.515842e-07</td>\n",
       "      <td>Yes</td>\n",
       "    </tr>\n",
       "    <tr>\n",
       "      <td>higher_yes</td>\n",
       "      <td>11.249021</td>\n",
       "      <td>2.390342e-02</td>\n",
       "      <td>Yes</td>\n",
       "    </tr>\n",
       "    <tr>\n",
       "      <td>higher_no</td>\n",
       "      <td>11.249021</td>\n",
       "      <td>2.390342e-02</td>\n",
       "      <td>Yes</td>\n",
       "    </tr>\n",
       "    <tr>\n",
       "      <td>schoolsup_no</td>\n",
       "      <td>10.979612</td>\n",
       "      <td>2.679410e-02</td>\n",
       "      <td>Yes</td>\n",
       "    </tr>\n",
       "    <tr>\n",
       "      <td>schoolsup_yes</td>\n",
       "      <td>10.979612</td>\n",
       "      <td>2.679410e-02</td>\n",
       "      <td>Yes</td>\n",
       "    </tr>\n",
       "    <tr>\n",
       "      <td>school_MS</td>\n",
       "      <td>10.186689</td>\n",
       "      <td>3.739766e-02</td>\n",
       "      <td>Yes</td>\n",
       "    </tr>\n",
       "    <tr>\n",
       "      <td>school_GP</td>\n",
       "      <td>10.186689</td>\n",
       "      <td>3.739766e-02</td>\n",
       "      <td>Yes</td>\n",
       "    </tr>\n",
       "  </tbody>\n",
       "</table>\n",
       "</div>"
      ],
      "text/plain": [
       "                    chi2         p_val significant\n",
       "sex_F          37.363640  1.515842e-07         Yes\n",
       "sex_M          37.363640  1.515842e-07         Yes\n",
       "higher_yes     11.249021  2.390342e-02         Yes\n",
       "higher_no      11.249021  2.390342e-02         Yes\n",
       "schoolsup_no   10.979612  2.679410e-02         Yes\n",
       "schoolsup_yes  10.979612  2.679410e-02         Yes\n",
       "school_MS      10.186689  3.739766e-02         Yes\n",
       "school_GP      10.186689  3.739766e-02         Yes"
      ]
     },
     "execution_count": 38,
     "metadata": {},
     "output_type": "execute_result"
    }
   ],
   "source": [
    "cat_info = dfDis.agg([chi_2_test,chi_2_p_value]).transpose()\n",
    "cat_info['significant'] = cat_info['chi_2_p_value'].apply(lambda x: 'Yes' if x < .05 else 'No')\n",
    "cat_info.columns = ['chi2','p_val','significant']\n",
    "print('Significant features:')\n",
    "cat_info[cat_info.significant == 'Yes'].sort_values('chi2',ascending=False)"
   ]
  },
  {
   "cell_type": "markdown",
   "metadata": {},
   "source": [
    "As the 'Walc' feature is ordinal and discrete we will choose the mode of it as a baseline for the prediction performance."
   ]
  },
  {
   "cell_type": "code",
   "execution_count": 39,
   "metadata": {},
   "outputs": [
    {
     "name": "stdout",
     "output_type": "stream",
     "text": [
      "F1 baseline: 0.1963\n"
     ]
    }
   ],
   "source": [
    "dfDis = data.select_dtypes(exclude=numerics)\n",
    "dfDis = pd.get_dummies(dfDis)\n",
    "whole_data = pd.concat([dfNum,dfDis],axis=1)\n",
    "train,test = train_test_split(whole_data,random_state=42,test_size = .1,shuffle=True)\n",
    "X_train,y_train, X_test, y_test = train.drop('Walc',axis=1),train['Walc'],test.drop('Walc',axis=1),test['Walc']\n",
    "print('F1 baseline: %.4f' % f1_score(y_train,[y_train.mode()[0] for i in range(len(y_train))],average='weighted'))"
   ]
  },
  {
   "cell_type": "code",
   "execution_count": 40,
   "metadata": {},
   "outputs": [
    {
     "name": "stdout",
     "output_type": "stream",
     "text": [
      "Random Forest Classifier trained on all features: 0.4581\n"
     ]
    }
   ],
   "source": [
    "rfc = RandomForestClassifier(random_state = 42,n_estimators = 30)\n",
    "print('Random Forest Classifier trained on all features: %.4f' % abs(cross_val_score(rfc,X_train,y_train,scoring='f1_weighted',cv=ShuffleSplit(n_splits=5,random_state=42)).mean()))"
   ]
  },
  {
   "cell_type": "code",
   "execution_count": 41,
   "metadata": {},
   "outputs": [
    {
     "name": "stdout",
     "output_type": "stream",
     "text": [
      "Let's leave only the significant features with linear correlation with target variable\n",
      "Random Forest Classifier trained on significant features: 0.4791\n"
     ]
    }
   ],
   "source": [
    "good_features = np.hstack([norm_ord_info[norm_ord_info.significant == 'Yes'].index,\\\n",
    "                            norm_cont_info[norm_cont_info.significant == 'Yes'].index,\\\n",
    "                            cont_skew_info[cont_skew_info.significant == 'Yes'].index,\\\n",
    "                            ord_skew_info[ord_skew_info.significant == 'Yes'].index,\\\n",
    "                            cat_info[cat_info.significant == 'Yes'].index,['Walc']])\n",
    "whole_data = pd.concat([dfNum,dfDis],axis=1)[good_features].drop(['G2','G1'],axis=1)\n",
    "train,test = train_test_split(whole_data,random_state=42,test_size = .1,shuffle=True)\n",
    "X_train,y_train, X_test, y_test = train.drop('Walc',axis=1),train['Walc'],test.drop('Walc',axis=1),test['Walc']\n",
    "print(\"Let's leave only the significant features with linear correlation with target variable\")\n",
    "print('Random Forest Classifier trained on significant features: %.4f' % abs(cross_val_score(rfc,X_train,y_train,scoring='f1_weighted',cv=ShuffleSplit(n_splits=5,random_state=42)).mean()))"
   ]
  },
  {
   "cell_type": "code",
   "execution_count": 42,
   "metadata": {},
   "outputs": [
    {
     "name": "stdout",
     "output_type": "stream",
     "text": [
      "Logistic Regression trained on all features: 0.4331\n"
     ]
    }
   ],
   "source": [
    "dfDis = data.select_dtypes(exclude=numerics)\n",
    "dfDis = pd.get_dummies(dfDis)\n",
    "whole_data = pd.concat([dfNum,dfDis],axis=1)\n",
    "train,test = train_test_split(whole_data,random_state=42,test_size = .1,shuffle=True)\n",
    "X_train,y_train, X_test, y_test = train.drop('Walc',axis=1),train['Walc'],test.drop('Walc',axis=1),test['Walc']\n",
    "lrc = LogisticRegression()\n",
    "print('Logistic Regression trained on all features: %.4f' % abs(cross_val_score(lrc,X_train,y_train,scoring='f1_weighted',cv=ShuffleSplit(n_splits=5,random_state=42)).mean()))"
   ]
  },
  {
   "cell_type": "code",
   "execution_count": 43,
   "metadata": {
    "scrolled": true
   },
   "outputs": [
    {
     "name": "stdout",
     "output_type": "stream",
     "text": [
      "Let's leave only the significant features with linear correlation with target variable\n",
      "Logistic Regression trained on significant features: 0.4470\n"
     ]
    }
   ],
   "source": [
    "good_features = np.hstack([norm_ord_info[norm_ord_info.significant == 'Yes'].index,\\\n",
    "                            norm_cont_info[norm_cont_info.significant == 'Yes'].index,\\\n",
    "                            cont_skew_info[cont_skew_info.significant == 'Yes'].index,\\\n",
    "                            ord_skew_info[ord_skew_info.significant == 'Yes'].index,\\\n",
    "                            cat_info[cat_info.significant == 'Yes'].index,['Walc']])\n",
    "whole_data = pd.concat([dfNum,dfDis],axis=1)[good_features].drop(['G2','G1'],axis=1)\n",
    "train,test = train_test_split(whole_data,random_state=42,test_size = .1,shuffle=True)\n",
    "X_train,y_train, X_test, y_test = train.drop('Walc',axis=1),train['Walc'],test.drop('Walc',axis=1),test['Walc']\n",
    "print(\"Let's leave only the significant features with linear correlation with target variable\")\n",
    "print('Logistic Regression trained on significant features: %.4f' % abs(cross_val_score(lrc,X_train,y_train,scoring='f1_weighted',cv=ShuffleSplit(n_splits=5,random_state=42)).mean()))"
   ]
  },
  {
   "cell_type": "code",
   "execution_count": 44,
   "metadata": {},
   "outputs": [
    {
     "name": "stdout",
     "output_type": "stream",
     "text": [
      "Linear Regression F1 score on validation set, good features: 0.5105\n",
      "Random Forest F1 score on validation set: 0.5682\n"
     ]
    }
   ],
   "source": [
    "whole_data = pd.concat([dfNum,dfDis],axis=1)\n",
    "train,test = train_test_split(whole_data,random_state=42,test_size = .1,shuffle=True)\n",
    "X_train,y_train, X_test, y_test = train.drop('Walc',axis=1),train['Walc'],test.drop('Walc',axis=1),test['Walc']\n",
    "good_predictors = [x for x in good_features if x != 'Walc' ]\n",
    "print('Linear Regression F1 score on validation set, good features: %.4f' % f1_score(y_test,list(map(int,lrc.fit(X_train[good_predictors],y_train).predict(X_test[good_predictors]))),average='weighted'))\n",
    "print('Random Forest F1 score on validation set: %.4f' % f1_score(y_test,list(map(int,rfc.fit(X_train[good_predictors],y_train).predict(X_test[good_predictors]))),average='weighted'))"
   ]
  },
  {
   "cell_type": "markdown",
   "metadata": {},
   "source": [
    "As we could see, Random Forest performed better than simple regression. Let's sum up what we have discovered."
   ]
  },
  {
   "cell_type": "markdown",
   "metadata": {},
   "source": [
    "For the optimization, let's combine our knowledge gained from statistical tests and also, as the Random Forest did well, knowledge, gained from this model. Random Forest gives us an elegant way to calculate feature importance score. In sklearn implementation it calculates the score automatically so we will just use precalculated values in this section without the need to calculate them manually. [6]"
   ]
  },
  {
   "cell_type": "code",
   "execution_count": 45,
   "metadata": {},
   "outputs": [
    {
     "data": {
      "text/plain": [
       "Text(0, 0.5, 'Feature importances')"
      ]
     },
     "execution_count": 45,
     "metadata": {},
     "output_type": "execute_result"
    },
    {
     "data": {
      "image/png": "[encoded data removed]",
      "text/plain": [
       "<Figure size 1440x720 with 1 Axes>"
      ]
     },
     "metadata": {
      "needs_background": "light"
     },
     "output_type": "display_data"
    }
   ],
   "source": [
    "importances = rfc.fit(X_train,y_train).feature_importances_\n",
    "importance_values = sorted(importances,reverse=True)\n",
    "importance_columns = whole_data.columns[importances.argsort()[::-1]]\n",
    "\n",
    "plt.figure(figsize=(20,10))\n",
    "plt.title(\"Feature rating\",fontsize=20)\n",
    "plt.bar(range(16),importance_values[:16],color='g',align=\"center\")\n",
    "plt.xticks(range(16),importance_columns[:16],rotation=90)\n",
    "plt.ylabel(\"Feature importance\")\n",
    "plt.xlim([-1,16])\n",
    "plt.xlabel('Features', fontsize=15)\n",
    "plt.ylabel('Feature importances', fontsize=15)"
   ]
  },
  {
   "cell_type": "code",
   "execution_count": 46,
   "metadata": {
    "scrolled": true
   },
   "outputs": [
    {
     "name": "stdout",
     "output_type": "stream",
     "text": [
      "Significantly correlated features: studytime, age, G1, G2, Medu, Fedu, traveltime, failures, famrel, freetime, Dalc, school_GP, school_MS, sex_F, sex_M, schoolsup_no, schoolsup_yes, higher_no, higher_yes, Walc\n"
     ]
    }
   ],
   "source": [
    "print('Significantly correlated features: ' + ', '.join(good_features))"
   ]
  },
  {
   "cell_type": "markdown",
   "metadata": {},
   "source": [
    "Using the obtained knowledge we discussed with parents the importance of good family relationships and desirable restrictions on a workday  alcohol consumption which could lead to decrease in weekend alcohol consumption as well. Also, we found out that parent's lavel of education, amount of time spent on studying and amount of freetime is important too. Knowing all that we modeled all the changes that, in our opinion, should lead to a better result and tested new data with our model."
   ]
  },
  {
   "cell_type": "code",
   "execution_count": 47,
   "metadata": {},
   "outputs": [
    {
     "name": "stdout",
     "output_type": "stream",
     "text": [
      "Weekdays excessive alcohol consumption percentage before optimization: 40.2532\n",
      "Weekdays excessive alcohol consumption percentage after optimization: 7.0886\n",
      "Cohen-Kappa score: 0.2270\n"
     ]
    },
    {
     "data": {
      "image/png": "[encoded data removed]",
      "text/plain": [
       "<Figure size 1080x288 with 2 Axes>"
      ]
     },
     "metadata": {
      "needs_background": "light"
     },
     "output_type": "display_data"
    }
   ],
   "source": [
    "updated_data = whole_data.copy(deep=True).drop('Walc',1)\n",
    "updated_data['freetime'] = updated_data['freetime'].apply(lambda x: math.ceil(x * .2)).apply(lambda x: x if x <= 5 else 5)\n",
    "updated_data['famrel'] = updated_data['famrel'].apply(lambda x: math.ceil(x * 2)).apply(lambda x: x if x <= 5 else 5)\n",
    "updated_data['Dalc'] = updated_data['Dalc'].apply(lambda x: math.ceil(x * .1)).apply(lambda x: x if x <= 5 else 5)\n",
    "updated_data['Medu'] = updated_data['Medu'] + 1\n",
    "updated_data['studytime'] = updated_data['studytime'] + 1\n",
    "forest_walc = RandomForestClassifier(random_state = 42).fit(whole_data.drop('Walc',1)[good_predictors],whole_data.Walc)\n",
    "\n",
    "print('Weekdays excessive alcohol consumption percentage before optimization: %.4f' % (sum(data.Walc > 2) / data.shape[0]  * 100))\n",
    "print('Weekdays excessive alcohol consumption percentage after optimization: %.4f' % (sum(forest_walc.predict(updated_data[good_predictors]) > 2) / data.shape[0] * 100))\n",
    "# print('Cohen-Kappa score: %.4f' % (cohen_kappa_score(data.G3,lr.predict(updated_data))))\n",
    "print('Cohen-Kappa score: %.4f' % (cohen_kappa_score(data.Walc,(forest_walc.predict(updated_data[good_predictors])).astype('int32'))))\n",
    "\n",
    "fig,ax = plt.subplots(1,2,figsize=(15,4))\n",
    "sns.countplot((data.Walc > 2).replace({True:'Excessive alcohol consumption',\\\n",
    "                                       False:'Normal alcohol consumption'}),ax=ax[0])\n",
    "ax[0].set_title('Before optimization')\n",
    "sns.countplot(['Excessive alcohol consumption' if x == True else 'Normal alcohol consumption'\\\n",
    "               for x in (forest_walc.predict(updated_data[good_predictors]) > 2)],ax = ax[1])\n",
    "ax[1].set_title('After optimization')\n",
    "for ax_ in ax.flatten():\n",
    "    show_values_on_bars(ax_)"
   ]
  },
  {
   "cell_type": "code",
   "execution_count": 48,
   "metadata": {},
   "outputs": [
    {
     "data": {
      "image/png": "[encoded data removed]",
      "text/plain": [
       "<Figure size 576x360 with 1 Axes>"
      ]
     },
     "metadata": {
      "needs_background": "light"
     },
     "output_type": "display_data"
    }
   ],
   "source": [
    "f, ax = plt.subplots(1, figsize = (8,5))\n",
    "sm.graphics.mean_diff_plot(data.Walc, forest_walc.predict(updated_data[good_predictors]),ax=ax)\n",
    "ax.set_title('Bland-Atman plot for weekdays alcohol consumption before and after optimization',fontsize=15)\n",
    "plt.show()"
   ]
  },
  {
   "cell_type": "markdown",
   "metadata": {},
   "source": [
    "Again, the Cohen-Cappa score and the Bland-Atman plot confirm that the changes in the process are real.\n"
   ]
  },
  {
   "cell_type": "code",
   "execution_count": 49,
   "metadata": {},
   "outputs": [
    {
     "name": "stdout",
     "output_type": "stream",
     "text": [
      "DPMO before optimization: 402531.6456, Sigma ~ 1.7\n",
      "DPMO after optimization: 70886.0759, Sigma ~ 3\n"
     ]
    }
   ],
   "source": [
    "print('DPMO before optimization: %.4f, Sigma ~ 1.7' % (sum(data.Walc > 2) / len(data.Walc) * 10**6))\n",
    "print('DPMO after optimization: %.4f, Sigma ~ 3' % (sum(forest_walc.predict(updated_data[good_predictors]) > 2) / len(data.Walc) * 10**6))"
   ]
  },
  {
   "cell_type": "markdown",
   "metadata": {},
   "source": [
    "# Conclusion and discussion"
   ]
  },
  {
   "cell_type": "markdown",
   "metadata": {},
   "source": [
    "In both cases we were able to improve the sigma value, so we can assume that optimization was succesfull. In the second case it was much more successfull and the reason for that might be that human behaviour is a very complicated process so it is much more easy to restrict students from doing something than to make them a better learners. Using statistical methods and visualization, we showed that in both cases the situation was different before and after optimization.\n",
    "\n",
    "As far as we know, this is the first attempt to apply the Six Sigma to the human behaviour prediction and improvement. From the theoretical stand and modeling it seems, that this methodology could lead to significant improvements in this area, but further study is recimmended.\n",
    "\n",
    "Main suggestion for the further optimization is to gather much more data, since it is hard to perform a good statistical analysis on a dataset that includes less then 400 entries. All the assumtptions of this research have to be checked again on the larger dataset with the use of the methods described above. "
   ]
  },
  {
   "cell_type": "markdown",
   "metadata": {},
   "source": [
    "# Literature"
   ]
  },
  {
   "cell_type": "markdown",
   "metadata": {},
   "source": [
    "[1] P. P. Bržan and D. Dinevski, “Medicinske raziskave in biostatistika s praktičnimi primeri v programu spss,” pp. 110–138.\n",
    "\n",
    "[2] Wasserstein, Ronald L.; Lazar, Nicole A. (7 March 2016). \"The ASA's Statement on p-Values: Context, Process, and Purpose\". The American Statistician. 70 (2): 129–133\n",
    "\n",
    "[3] Lehmann, Erich L., Romano, Joseph P.; \"Testing Statistical Hypotheses\"\n",
    "\n",
    "[4] Hands-On Machine Learning with Scikit-Learn and TensorFlow: Concepts, Tools, and Techniques to Build Intelligent Systems, vol 1 p. 163\n",
    "\n",
    "[5] David W. Hosmer Jr., Stanley Lemeshow, Rodney X. Sturdivant; \"Applied Logistic Regression, 3rd Edition\"\n",
    "\n",
    "[6] Machine Learning With Random Forests And Decision Trees: A Visual Guide For Beginners, 2019\n",
    "\n",
    "[7] Sasaki, Y. (2007). \"The truth of the F-measure\"\n",
    "\n",
    "[8] McHugh, Mary L. (2012). \"Interrater reliability: The kappa statistic\". Biochemia Medica. 22 (3): 276–282\n",
    "\n",
    "[9] Altman DG, Bland JM (1983). \"Measurement in medicine: the analysis of method comparison studies\". The Statistician. 32 (3): 307–317\n",
    "\n",
    "[10] George, Michael; Rowlands, David; Price, Mark; Maxey, John. Using DMAIC to improve speed, quality, and cost // The Lean Six Sigma Pocket Toolbook: A Quick Reference Guide to Nearly 100 Tools for Improving Process Quality, Speed, and Complexity. — N. Y.: McGraw-Hill, 2005. — P. 1-26. — 282 p"
   ]
  }
 ],
 "metadata": {
  "hide_input": false,
  "kernelspec": {
   "display_name": "Python 3",
   "language": "python",
   "name": "python3"
  },
  "language_info": {
   "codemirror_mode": {
    "name": "ipython",
    "version": 3
   },
   "file_extension": ".py",
   "mimetype": "text/x-python",
   "name": "python",
   "nbconvert_exporter": "python",
   "pygments_lexer": "ipython3",
   "version": "3.8.3"
  },
  "notify_time": "5",
  "toc": {
   "base_numbering": 1,
   "nav_menu": {},
   "number_sections": true,
   "sideBar": true,
   "skip_h1_title": false,
   "title_cell": "Table of Contents",
   "title_sidebar": "Contents",
   "toc_cell": false,
   "toc_position": {
    "height": "calc(100% - 180px)",
    "left": "10px",
    "top": "150px",
    "width": "384px"
   },
   "toc_section_display": true,
   "toc_window_display": false
  }
 },
 "nbformat": 4,
 "nbformat_minor": 2
}
