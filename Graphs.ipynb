{
 "cells": [
  {
   "cell_type": "markdown",
   "metadata": {},
   "source": [
    "course:\n",
    "https://ods.ai/tracks/kgcourse2021/blocks/f149df3e-715d-4495-b09c-f56779833066\n",
    "\n",
    "lib:\n",
    "https://github.com/retentioneering/retentioneering-tools"
   ]
  },
  {
   "cell_type": "code",
   "execution_count": 2,
   "metadata": {},
   "outputs": [
    {
     "data": {
      "text/plain": [
       "['.git',\n",
       " '.gitignore',\n",
       " '.ipynb_checkpoints',\n",
       " 'Advanced_Pandas.ipynb',\n",
       " 'continuous_distributions.png',\n",
       " 'Distribution_types_Part1.ipynb',\n",
       " 'flags.png',\n",
       " 'geo.ipynb',\n",
       " 'Graphs.ipynb',\n",
       " 'L_Regular_expressions.ipynb',\n",
       " 'operators.png',\n",
       " 'photo_2021-10-15_18-53-07.jpg',\n",
       " 'pos-check.png',\n",
       " 're-func.png',\n",
       " 'README.md',\n",
       " 'sintax.png',\n",
       " 'sintax2.png',\n",
       " 'Six_sigma_method.ipynb',\n",
       " 'stst_analisys.ipynb',\n",
       " 'students.png',\n",
       " 'xtafnjpq-xw3lu0aisu68q22elg.png']"
      ]
     },
     "execution_count": 2,
     "metadata": {},
     "output_type": "execute_result"
    }
   ],
   "source": [
    "import os\n",
    "os.listdir()"
   ]
  },
  {
   "cell_type": "code",
   "execution_count": null,
   "metadata": {},
   "outputs": [],
   "source": []
  }
 ],
 "metadata": {
  "kernelspec": {
   "display_name": "Python 3",
   "language": "python",
   "name": "python3"
  },
  "language_info": {
   "codemirror_mode": {
    "name": "ipython",
    "version": 3
   },
   "file_extension": ".py",
   "mimetype": "text/x-python",
   "name": "python",
   "nbconvert_exporter": "python",
   "pygments_lexer": "ipython3",
   "version": "3.8.3"
  }
 },
 "nbformat": 4,
 "nbformat_minor": 4
}
